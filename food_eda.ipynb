{
 "cells": [
  {
   "cell_type": "markdown",
   "metadata": {},
   "source": [
    "# Загрузка библиотек и данных"
   ]
  },
  {
   "cell_type": "code",
   "execution_count": 12,
   "metadata": {},
   "outputs": [
    {
     "name": "stdout",
     "output_type": "stream",
     "text": [
      "Collecting scikit-learn\n",
      "  Downloading scikit_learn-1.3.2-cp311-cp311-macosx_12_0_arm64.whl.metadata (11 kB)\n",
      "Requirement already satisfied: numpy<2.0,>=1.17.3 in /Library/Frameworks/Python.framework/Versions/3.11/lib/python3.11/site-packages (from scikit-learn) (1.26.2)\n",
      "Collecting scipy>=1.5.0 (from scikit-learn)\n",
      "  Downloading scipy-1.11.4-cp311-cp311-macosx_12_0_arm64.whl.metadata (165 kB)\n",
      "\u001b[2K     \u001b[38;2;114;156;31m━━━━━━━━━━━━━━━━━━━━━━━━━━━━━━━━━━━━━━━\u001b[0m \u001b[32m165.4/165.4 kB\u001b[0m \u001b[31m1.4 MB/s\u001b[0m eta \u001b[36m0:00:00\u001b[0mm eta \u001b[36m0:00:01\u001b[0m0:01\u001b[0m\n",
      "\u001b[?25hCollecting joblib>=1.1.1 (from scikit-learn)\n",
      "  Downloading joblib-1.3.2-py3-none-any.whl.metadata (5.4 kB)\n",
      "Collecting threadpoolctl>=2.0.0 (from scikit-learn)\n",
      "  Downloading threadpoolctl-3.2.0-py3-none-any.whl.metadata (10.0 kB)\n",
      "Downloading scikit_learn-1.3.2-cp311-cp311-macosx_12_0_arm64.whl (9.4 MB)\n",
      "\u001b[2K   \u001b[38;2;114;156;31m━━━━━━━━━━━━━━━━━━━━━━━━━━━━━━━━━━━━━━━━\u001b[0m \u001b[32m9.4/9.4 MB\u001b[0m \u001b[31m5.6 MB/s\u001b[0m eta \u001b[36m0:00:00\u001b[0mm eta \u001b[36m0:00:01\u001b[0m[36m0:00:01\u001b[0m\n",
      "\u001b[?25hDownloading joblib-1.3.2-py3-none-any.whl (302 kB)\n",
      "\u001b[2K   \u001b[38;2;114;156;31m━━━━━━━━━━━━━━━━━━━━━━━━━━━━━━━━━━━━━━━━\u001b[0m \u001b[32m302.2/302.2 kB\u001b[0m \u001b[31m3.5 MB/s\u001b[0m eta \u001b[36m0:00:00\u001b[0m[31m4.2 MB/s\u001b[0m eta \u001b[36m0:00:01\u001b[0m\n",
      "\u001b[?25hDownloading scipy-1.11.4-cp311-cp311-macosx_12_0_arm64.whl (29.7 MB)\n",
      "\u001b[2K   \u001b[38;2;114;156;31m━━━━━━━━━━━━━━━━━━━━━━━━━━━━━━━━━━━━━━━━\u001b[0m \u001b[32m29.7/29.7 MB\u001b[0m \u001b[31m1.6 MB/s\u001b[0m eta \u001b[36m0:00:00\u001b[0mm eta \u001b[36m0:00:01\u001b[0m[36m0:00:01\u001b[0m\n",
      "\u001b[?25hDownloading threadpoolctl-3.2.0-py3-none-any.whl (15 kB)\n",
      "Installing collected packages: threadpoolctl, scipy, joblib, scikit-learn\n",
      "Successfully installed joblib-1.3.2 scikit-learn-1.3.2 scipy-1.11.4 threadpoolctl-3.2.0\n",
      "\n",
      "\u001b[1m[\u001b[0m\u001b[34;49mnotice\u001b[0m\u001b[1;39;49m]\u001b[0m\u001b[39;49m A new release of pip is available: \u001b[0m\u001b[31;49m23.3\u001b[0m\u001b[39;49m -> \u001b[0m\u001b[32;49m23.3.2\u001b[0m\n",
      "\u001b[1m[\u001b[0m\u001b[34;49mnotice\u001b[0m\u001b[1;39;49m]\u001b[0m\u001b[39;49m To update, run: \u001b[0m\u001b[32;49mpip install --upgrade pip\u001b[0m\n",
      "Note: you may need to restart the kernel to use updated packages.\n"
     ]
    }
   ],
   "source": [
    "%pip install scikit-learn"
   ]
  },
  {
   "cell_type": "code",
   "execution_count": 14,
   "metadata": {},
   "outputs": [],
   "source": [
    "import opendatasets as od\n",
    "import pandas as pd\n",
    "import seaborn as sns\n",
    "import matplotlib.pyplot as plt \n",
    "import numpy as np\n",
    "import sklearn\n",
    "\n",
    "np.random.RandomState(seed=42)\n",
    "plt.style.use(\"bmh\")"
   ]
  },
  {
   "cell_type": "code",
   "execution_count": 15,
   "metadata": {},
   "outputs": [
    {
     "name": "stdout",
     "output_type": "stream",
     "text": [
      "Skipping, found downloaded files in \"./cuisine-rating\" (use force=True to force download)\n",
      "Full train dataset shape is (200, 15)\n"
     ]
    }
   ],
   "source": [
    "od.download(\"https://www.kaggle.com/datasets/surajjha101/cuisine-rating\")\n",
    "dataset_df = pd.read_csv('./cuisine-rating/Cuisine_rating.csv')\n",
    "print(\"Full train dataset shape is {}\".format(dataset_df.shape))"
   ]
  },
  {
   "cell_type": "markdown",
   "metadata": {},
   "source": [
    "# Смотрим данные, ищем за что зацепиться"
   ]
  },
  {
   "cell_type": "code",
   "execution_count": 3,
   "metadata": {},
   "outputs": [
    {
     "name": "stdout",
     "output_type": "stream",
     "text": [
      "<class 'pandas.core.frame.DataFrame'>\n",
      "RangeIndex: 200 entries, 0 to 199\n",
      "Data columns (total 13 columns):\n",
      " #   Column          Non-Null Count  Dtype  \n",
      "---  ------          --------------  -----  \n",
      " 0   Area code       200 non-null    int64  \n",
      " 1   Gender          200 non-null    object \n",
      " 2   YOB             200 non-null    int64  \n",
      " 3   Marital Status  200 non-null    object \n",
      " 4   Activity        200 non-null    object \n",
      " 5   Budget          200 non-null    int64  \n",
      " 6   Cuisines        200 non-null    object \n",
      " 7   Alcohol         200 non-null    object \n",
      " 8   Smoker          200 non-null    object \n",
      " 9   Often A S       200 non-null    object \n",
      " 10  Service Rating  200 non-null    int64  \n",
      " 11  Overall Rating  200 non-null    float64\n",
      " 12  Food Rating     200 non-null    int64  \n",
      "dtypes: float64(1), int64(5), object(7)\n",
      "memory usage: 20.4+ KB\n"
     ]
    }
   ],
   "source": [
    "dataset_df = dataset_df.drop([\"User ID\", \"Location\"], axis=1)\n",
    "\n",
    "# little reindexing to cut off ratings by [:-3] inxexing\n",
    "col_list = list(dataset_df)\n",
    "col_list[-1], col_list[-4] = col_list[-4], col_list[-1]\n",
    "dataset_df = dataset_df.reindex(columns=col_list)\n",
    "dataset_df.info()"
   ]
  },
  {
   "cell_type": "code",
   "execution_count": 4,
   "metadata": {},
   "outputs": [
    {
     "data": {
      "text/html": [
       "<div>\n",
       "<style scoped>\n",
       "    .dataframe tbody tr th:only-of-type {\n",
       "        vertical-align: middle;\n",
       "    }\n",
       "\n",
       "    .dataframe tbody tr th {\n",
       "        vertical-align: top;\n",
       "    }\n",
       "\n",
       "    .dataframe thead th {\n",
       "        text-align: right;\n",
       "    }\n",
       "</style>\n",
       "<table border=\"1\" class=\"dataframe\">\n",
       "  <thead>\n",
       "    <tr style=\"text-align: right;\">\n",
       "      <th></th>\n",
       "      <th>Area code</th>\n",
       "      <th>Gender</th>\n",
       "      <th>YOB</th>\n",
       "      <th>Marital Status</th>\n",
       "      <th>Activity</th>\n",
       "      <th>Budget</th>\n",
       "      <th>Cuisines</th>\n",
       "      <th>Alcohol</th>\n",
       "      <th>Smoker</th>\n",
       "      <th>Often A S</th>\n",
       "      <th>Service Rating</th>\n",
       "      <th>Overall Rating</th>\n",
       "      <th>Food Rating</th>\n",
       "    </tr>\n",
       "  </thead>\n",
       "  <tbody>\n",
       "    <tr>\n",
       "      <th>0</th>\n",
       "      <td>153</td>\n",
       "      <td>Female</td>\n",
       "      <td>2006</td>\n",
       "      <td>Single</td>\n",
       "      <td>Professional</td>\n",
       "      <td>3</td>\n",
       "      <td>Japanese</td>\n",
       "      <td>Never</td>\n",
       "      <td>Never</td>\n",
       "      <td>No</td>\n",
       "      <td>4</td>\n",
       "      <td>4.5</td>\n",
       "      <td>5</td>\n",
       "    </tr>\n",
       "    <tr>\n",
       "      <th>1</th>\n",
       "      <td>123</td>\n",
       "      <td>Female</td>\n",
       "      <td>1991</td>\n",
       "      <td>Married</td>\n",
       "      <td>Student</td>\n",
       "      <td>3</td>\n",
       "      <td>Indian</td>\n",
       "      <td>Never</td>\n",
       "      <td>Socially</td>\n",
       "      <td>No</td>\n",
       "      <td>1</td>\n",
       "      <td>1.0</td>\n",
       "      <td>1</td>\n",
       "    </tr>\n",
       "    <tr>\n",
       "      <th>2</th>\n",
       "      <td>122</td>\n",
       "      <td>Male</td>\n",
       "      <td>1977</td>\n",
       "      <td>Single</td>\n",
       "      <td>Student</td>\n",
       "      <td>5</td>\n",
       "      <td>Seafood</td>\n",
       "      <td>Often</td>\n",
       "      <td>Often</td>\n",
       "      <td>Yes</td>\n",
       "      <td>5</td>\n",
       "      <td>5.0</td>\n",
       "      <td>5</td>\n",
       "    </tr>\n",
       "    <tr>\n",
       "      <th>3</th>\n",
       "      <td>153</td>\n",
       "      <td>Female</td>\n",
       "      <td>1956</td>\n",
       "      <td>Married</td>\n",
       "      <td>Professional</td>\n",
       "      <td>5</td>\n",
       "      <td>Japanese</td>\n",
       "      <td>Never</td>\n",
       "      <td>Socially</td>\n",
       "      <td>No</td>\n",
       "      <td>1</td>\n",
       "      <td>2.0</td>\n",
       "      <td>3</td>\n",
       "    </tr>\n",
       "    <tr>\n",
       "      <th>4</th>\n",
       "      <td>129</td>\n",
       "      <td>Male</td>\n",
       "      <td>1997</td>\n",
       "      <td>Single</td>\n",
       "      <td>Student</td>\n",
       "      <td>4</td>\n",
       "      <td>Filipino</td>\n",
       "      <td>Socially</td>\n",
       "      <td>Never</td>\n",
       "      <td>No</td>\n",
       "      <td>4</td>\n",
       "      <td>3.0</td>\n",
       "      <td>2</td>\n",
       "    </tr>\n",
       "  </tbody>\n",
       "</table>\n",
       "</div>"
      ],
      "text/plain": [
       "   Area code  Gender   YOB Marital Status      Activity  Budget  Cuisines  \\\n",
       "0        153  Female  2006         Single  Professional       3  Japanese   \n",
       "1        123  Female  1991        Married       Student       3    Indian   \n",
       "2        122    Male  1977         Single       Student       5   Seafood   \n",
       "3        153  Female  1956        Married  Professional       5  Japanese   \n",
       "4        129    Male  1997         Single       Student       4  Filipino   \n",
       "\n",
       "   Alcohol     Smoker Often A S  Service Rating  Overall Rating  Food Rating  \n",
       "0     Never     Never        No               4             4.5            5  \n",
       "1     Never  Socially        No               1             1.0            1  \n",
       "2     Often     Often       Yes               5             5.0            5  \n",
       "3     Never  Socially        No               1             2.0            3  \n",
       "4  Socially     Never        No               4             3.0            2  "
      ]
     },
     "execution_count": 4,
     "metadata": {},
     "output_type": "execute_result"
    }
   ],
   "source": [
    "dataset_df.head()"
   ]
  },
  {
   "cell_type": "code",
   "execution_count": 5,
   "metadata": {},
   "outputs": [
    {
     "data": {
      "text/plain": [
       "<Axes: xlabel='Overall Rating', ylabel='Count'>"
      ]
     },
     "execution_count": 5,
     "metadata": {},
     "output_type": "execute_result"
    },
    {
     "data": {
      "image/png": "[encoded data removed]",
      "text/plain": [
       "<Figure size 640x480 with 1 Axes>"
      ]
     },
     "metadata": {},
     "output_type": "display_data"
    }
   ],
   "source": [
    "sns.histplot(data=dataset_df[\"Overall Rating\"], element=\"step\")"
   ]
  },
  {
   "cell_type": "code",
   "execution_count": 6,
   "metadata": {},
   "outputs": [],
   "source": [
    "num_dataset = dataset_df.copy()\n",
    "for col in num_dataset:\n",
    "    if num_dataset[col].dtype in [\"int64\", \"float64\"]:\n",
    "        continue\n",
    "    num_dataset[col] = num_dataset[col].rank().astype(int)"
   ]
  },
  {
   "cell_type": "code",
   "execution_count": 8,
   "metadata": {},
   "outputs": [
    {
     "data": {
      "text/plain": [
       "Often A S         0.312748\n",
       "Alcohol           0.207072\n",
       "Cuisines          0.078830\n",
       "YOB               0.057508\n",
       "Smoker            0.051304\n",
       "Marital Status    0.017904\n",
       "Area code        -0.008142\n",
       "Budget           -0.058049\n",
       "Gender           -0.085445\n",
       "Activity         -0.165879\n",
       "Name: Overall Rating, dtype: float64"
      ]
     },
     "execution_count": 8,
     "metadata": {},
     "output_type": "execute_result"
    }
   ],
   "source": [
    "dataset_corr = num_dataset.corr()[\"Overall Rating\"][:-3]\n",
    "\n",
    "real_features = dataset_corr.sort_values(ascending=False)\n",
    "real_features"
   ]
  },
  {
   "cell_type": "markdown",
   "metadata": {},
   "source": [
    "Низкоая корелляция какая-то... Всего 200 записей, похоже будет сложно получить хорошее предсказание"
   ]
  },
  {
   "cell_type": "markdown",
   "metadata": {},
   "source": [
    "# Идем по моделям"
   ]
  },
  {
   "cell_type": "code",
   "execution_count": 35,
   "metadata": {},
   "outputs": [
    {
     "name": "stdout",
     "output_type": "stream",
     "text": [
      "150 examples in training, 50 examples in testing.\n"
     ]
    }
   ],
   "source": [
    "from sklearn.model_selection import train_test_split\n",
    "\n",
    "label = \"Overall Rating\"\n",
    "\n",
    "dataset_df.rename(columns = {\"Overall Rating\": \"O_R\", \"Area code\": \"A_C\", \"Marital Status\": \"M_S\", \"Often A S\": \"O_A_S\"}, inplace=True)\n",
    "\n",
    "num_dataset = dataset_df.copy()\n",
    "for col in num_dataset:\n",
    "    if num_dataset[col].dtype in [\"int64\", \"float64\"]:\n",
    "        continue\n",
    "    num_dataset[col] = num_dataset[col].rank().astype(int)\n",
    "\n",
    "\n",
    "X_train, X_test, y_train, y_test = train_test_split(num_dataset.drop(\"O_R\", axis=1), num_dataset[\"O_R\"])\n",
    "\n",
    "print(\"{} examples in training, {} examples in testing.\".format(\n",
    "    len(X_train), len(X_test)))"
   ]
  },
  {
   "cell_type": "code",
   "execution_count": 36,
   "metadata": {},
   "outputs": [
    {
     "data": {
      "text/html": [
       "<div>\n",
       "<style scoped>\n",
       "    .dataframe tbody tr th:only-of-type {\n",
       "        vertical-align: middle;\n",
       "    }\n",
       "\n",
       "    .dataframe tbody tr th {\n",
       "        vertical-align: top;\n",
       "    }\n",
       "\n",
       "    .dataframe thead th {\n",
       "        text-align: right;\n",
       "    }\n",
       "</style>\n",
       "<table border=\"1\" class=\"dataframe\">\n",
       "  <thead>\n",
       "    <tr style=\"text-align: right;\">\n",
       "      <th></th>\n",
       "      <th>User ID</th>\n",
       "      <th>A_C</th>\n",
       "      <th>Location</th>\n",
       "      <th>Gender</th>\n",
       "      <th>YOB</th>\n",
       "      <th>M_S</th>\n",
       "      <th>Activity</th>\n",
       "      <th>Budget</th>\n",
       "      <th>Cuisines</th>\n",
       "      <th>Alcohol</th>\n",
       "      <th>Smoker</th>\n",
       "      <th>O_A_S</th>\n",
       "    </tr>\n",
       "  </thead>\n",
       "  <tbody>\n",
       "    <tr>\n",
       "      <th>105</th>\n",
       "      <td>106</td>\n",
       "      <td>172</td>\n",
       "      <td>45</td>\n",
       "      <td>141</td>\n",
       "      <td>1995</td>\n",
       "      <td>150</td>\n",
       "      <td>140</td>\n",
       "      <td>5</td>\n",
       "      <td>189</td>\n",
       "      <td>44</td>\n",
       "      <td>94</td>\n",
       "      <td>87</td>\n",
       "    </tr>\n",
       "    <tr>\n",
       "      <th>21</th>\n",
       "      <td>22</td>\n",
       "      <td>153</td>\n",
       "      <td>167</td>\n",
       "      <td>41</td>\n",
       "      <td>1983</td>\n",
       "      <td>57</td>\n",
       "      <td>40</td>\n",
       "      <td>5</td>\n",
       "      <td>133</td>\n",
       "      <td>175</td>\n",
       "      <td>30</td>\n",
       "      <td>87</td>\n",
       "    </tr>\n",
       "    <tr>\n",
       "      <th>6</th>\n",
       "      <td>7</td>\n",
       "      <td>111</td>\n",
       "      <td>45</td>\n",
       "      <td>41</td>\n",
       "      <td>1977</td>\n",
       "      <td>57</td>\n",
       "      <td>40</td>\n",
       "      <td>5</td>\n",
       "      <td>108</td>\n",
       "      <td>119</td>\n",
       "      <td>165</td>\n",
       "      <td>87</td>\n",
       "    </tr>\n",
       "    <tr>\n",
       "      <th>157</th>\n",
       "      <td>158</td>\n",
       "      <td>196</td>\n",
       "      <td>30</td>\n",
       "      <td>141</td>\n",
       "      <td>1962</td>\n",
       "      <td>57</td>\n",
       "      <td>40</td>\n",
       "      <td>3</td>\n",
       "      <td>41</td>\n",
       "      <td>44</td>\n",
       "      <td>30</td>\n",
       "      <td>87</td>\n",
       "    </tr>\n",
       "    <tr>\n",
       "      <th>94</th>\n",
       "      <td>95</td>\n",
       "      <td>111</td>\n",
       "      <td>45</td>\n",
       "      <td>141</td>\n",
       "      <td>1974</td>\n",
       "      <td>57</td>\n",
       "      <td>140</td>\n",
       "      <td>3</td>\n",
       "      <td>108</td>\n",
       "      <td>119</td>\n",
       "      <td>94</td>\n",
       "      <td>187</td>\n",
       "    </tr>\n",
       "  </tbody>\n",
       "</table>\n",
       "</div>"
      ],
      "text/plain": [
       "     User ID  A_C  Location  Gender   YOB  M_S  Activity  Budget  Cuisines  \\\n",
       "105      106  172        45     141  1995  150       140       5       189   \n",
       "21        22  153       167      41  1983   57        40       5       133   \n",
       "6          7  111        45      41  1977   57        40       5       108   \n",
       "157      158  196        30     141  1962   57        40       3        41   \n",
       "94        95  111        45     141  1974   57       140       3       108   \n",
       "\n",
       "     Alcohol   Smoker  O_A_S  \n",
       "105        44      94     87  \n",
       "21        175      30     87  \n",
       "6         119     165     87  \n",
       "157        44      30     87  \n",
       "94        119      94    187  "
      ]
     },
     "execution_count": 36,
     "metadata": {},
     "output_type": "execute_result"
    }
   ],
   "source": [
    "X_train.head()"
   ]
  },
  {
   "cell_type": "code",
   "execution_count": 46,
   "metadata": {},
   "outputs": [
    {
     "data": {
      "text/plain": [
       "1.112847193351189"
      ]
     },
     "execution_count": 46,
     "metadata": {},
     "output_type": "execute_result"
    }
   ],
   "source": [
    "from sklearn.linear_model import BayesianRidge\n",
    "from sklearn.metrics import mean_squared_error\n",
    "\n",
    "clf = BayesianRidge()\n",
    "clf.fit(X_train, y_train)\n",
    "\n",
    "y_predicted=clf.predict(X_test)\n",
    "\n",
    "mean_squared_error(y_true=y_test, y_pred=y_predicted)"
   ]
  },
  {
   "cell_type": "code",
   "execution_count": 48,
   "metadata": {},
   "outputs": [
    {
     "data": {
      "text/plain": [
       "<matplotlib.collections.PathCollection at 0x285a88590>"
      ]
     },
     "execution_count": 48,
     "metadata": {},
     "output_type": "execute_result"
    },
    {
     "data": {
      "image/png": "[encoded data removed]",
      "text/plain": [
       "<Figure size 640x480 with 1 Axes>"
      ]
     },
     "metadata": {},
     "output_type": "display_data"
    }
   ],
   "source": [
    "import matplotlib.pyplot as plt\n",
    "\n",
    "plt.scatter(y_test, y_predicted)"
   ]
  },
  {
   "cell_type": "code",
   "execution_count": null,
   "metadata": {},
   "outputs": [],
   "source": []
  }
 ],
 "metadata": {
  "kernelspec": {
   "display_name": "kaggle-stuff",
   "language": "python",
   "name": "python3"
  },
  "language_info": {
   "codemirror_mode": {
    "name": "ipython",
    "version": 3
   },
   "file_extension": ".py",
   "mimetype": "text/x-python",
   "name": "python",
   "nbconvert_exporter": "python",
   "pygments_lexer": "ipython3",
   "version": "3.11.3"
  }
 },
 "nbformat": 4,
 "nbformat_minor": 2
}
