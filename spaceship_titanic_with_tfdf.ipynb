{
  "metadata": {
    "kernelspec": {
      "language": "python",
      "display_name": "Python 3",
      "name": "python3"
    },
    "language_info": {
      "name": "python",
      "version": "3.7.12",
      "mimetype": "text/x-python",
      "codemirror_mode": {
        "name": "ipython",
        "version": 3
      },
      "pygments_lexer": "ipython3",
      "nbconvert_exporter": "python",
      "file_extension": ".py"
    },
    "kaggle": {
      "accelerator": "none",
      "dataSources": [
        {
          "sourceId": 34377,
          "databundleVersionId": 3220602,
          "sourceType": "competition"
        }
      ],
      "dockerImageVersionId": 30407,
      "isInternetEnabled": false,
      "language": "python",
      "sourceType": "notebook",
      "isGpuEnabled": false
    },
    "colab": {
      "provenance": [],
      "include_colab_link": true
    }
  },
  "nbformat_minor": 0,
  "nbformat": 4,
  "cells": [
    {
      "cell_type": "markdown",
      "metadata": {
        "id": "view-in-github",
        "colab_type": "text"
      },
      "source": [
        "<a href=\"https://colab.research.google.com/github/Mayonnaise-Slap/space-titanic-contest/blob/main/spaceship_titanic_with_tfdf.ipynb\" target=\"_parent\"><img src=\"https://colab.research.google.com/assets/colab-badge.svg\" alt=\"Open In Colab\"/></a>"
      ]
    },
    {
      "cell_type": "markdown",
      "source": [
        "# Spaceship Titanic Dataset with TensorFlow Decision Forests"
      ],
      "metadata": {
        "id": "Ck00s7mTmnjA"
      }
    },
    {
      "cell_type": "markdown",
      "source": [
        "This notebook walks you through how to train a baseline Random Forest model using TensorFlow Decision Forests on the Spaceship Titanic dataset made available for this competition.\n",
        "\n",
        "Roughly, the code will look as follows:\n",
        "\n",
        "```\n",
        "import tensorflow_decision_forests as tfdf\n",
        "import pandas as pd\n",
        "\n",
        "dataset = pd.read_csv(\"project/dataset.csv\")\n",
        "tf_dataset = tfdf.keras.pd_dataframe_to_tf_dataset(dataset, label=\"my_label\")\n",
        "\n",
        "model = tfdf.keras.RandomForestModel()\n",
        "model.fit(tf_dataset)\n",
        "\n",
        "print(model.summary())\n",
        "```\n",
        "\n",
        "Decision Forests are a family of tree-based models including Random Forests and Gradient Boosted Trees. They are the best place to start when working with tabular data, and will often outperform (or provide a strong baseline) before you begin experimenting with neural networks."
      ],
      "metadata": {
        "id": "62leGXylmnjF"
      }
    },
    {
      "cell_type": "markdown",
      "source": [
        "# Import the library"
      ],
      "metadata": {
        "id": "UPNzfVOEmnjH"
      }
    },
    {
      "cell_type": "code",
      "source": [
        "import tensorflow as tf\n",
        "import tensorflow_decision_forests as tfdf\n",
        "import pandas as pd\n",
        "import numpy as np\n",
        "import seaborn as sns\n",
        "import matplotlib.pyplot as plt"
      ],
      "metadata": {
        "id": "mmwBzpblmnjH",
        "execution": {
          "iopub.status.busy": "2023-12-07T11:31:21.005053Z",
          "iopub.execute_input": "2023-12-07T11:31:21.005396Z",
          "iopub.status.idle": "2023-12-07T11:31:31.145545Z",
          "shell.execute_reply.started": "2023-12-07T11:31:21.005363Z",
          "shell.execute_reply": "2023-12-07T11:31:31.144570Z"
        },
        "trusted": true
      },
      "execution_count": null,
      "outputs": []
    },
    {
      "cell_type": "code",
      "source": [
        "print(\"TensorFlow v\" + tf.__version__)\n",
        "print(\"TensorFlow Decision Forests v\" + tfdf.__version__)"
      ],
      "metadata": {
        "id": "grAO86gTmnjJ",
        "execution": {
          "iopub.status.busy": "2023-12-07T11:31:31.147376Z",
          "iopub.execute_input": "2023-12-07T11:31:31.147984Z",
          "iopub.status.idle": "2023-12-07T11:31:31.153388Z",
          "shell.execute_reply.started": "2023-12-07T11:31:31.147951Z",
          "shell.execute_reply": "2023-12-07T11:31:31.151911Z"
        },
        "trusted": true,
        "outputId": "9dc314a7-fab4-4576-a1d6-67e45a144c33"
      },
      "execution_count": null,
      "outputs": [
        {
          "name": "stdout",
          "text": "TensorFlow v2.11.0\nTensorFlow Decision Forests v1.2.0\n",
          "output_type": "stream"
        }
      ]
    },
    {
      "cell_type": "markdown",
      "source": [
        "# Load the Dataset"
      ],
      "metadata": {
        "id": "6sHFpppPmnjJ"
      }
    },
    {
      "cell_type": "code",
      "source": [
        "# Load a dataset into a Pandas Dataframe\n",
        "dataset_df = pd.read_csv('/kaggle/input/spaceship-titanic/train.csv')\n",
        "print(\"Full train dataset shape is {}\".format(dataset_df.shape))"
      ],
      "metadata": {
        "id": "c1P3Y3a7mnjL",
        "execution": {
          "iopub.status.busy": "2023-12-07T11:31:31.154360Z",
          "iopub.execute_input": "2023-12-07T11:31:31.154687Z",
          "iopub.status.idle": "2023-12-07T11:31:31.254616Z",
          "shell.execute_reply.started": "2023-12-07T11:31:31.154656Z",
          "shell.execute_reply": "2023-12-07T11:31:31.253674Z"
        },
        "trusted": true,
        "outputId": "2be9aaad-6185-42d9-f2d0-4500608d9e50"
      },
      "execution_count": null,
      "outputs": [
        {
          "name": "stdout",
          "text": "Full train dataset shape is (8693, 14)\n",
          "output_type": "stream"
        }
      ]
    },
    {
      "cell_type": "markdown",
      "source": [
        "The data is composed of 14 columns and 8693 entries. We can see all 14 dimensions of our dataset by printing out the first 5 entries using the following code:"
      ],
      "metadata": {
        "id": "cEd92zhJmnjL"
      }
    },
    {
      "cell_type": "code",
      "source": [
        "# Display the first 5 examples\n",
        "dataset_df.head(5)"
      ],
      "metadata": {
        "id": "nCx3PE1xmnjM",
        "execution": {
          "iopub.status.busy": "2023-12-07T11:31:31.255929Z",
          "iopub.execute_input": "2023-12-07T11:31:31.257345Z",
          "iopub.status.idle": "2023-12-07T11:31:31.293926Z",
          "shell.execute_reply.started": "2023-12-07T11:31:31.257298Z",
          "shell.execute_reply": "2023-12-07T11:31:31.292542Z"
        },
        "trusted": true,
        "outputId": "015b237d-dd19-4b04-90f7-88cc596c48ee"
      },
      "execution_count": null,
      "outputs": [
        {
          "execution_count": 4,
          "output_type": "execute_result",
          "data": {
            "text/plain": "  PassengerId HomePlanet CryoSleep  Cabin  Destination   Age    VIP  \\\n0     0001_01     Europa     False  B/0/P  TRAPPIST-1e  39.0  False   \n1     0002_01      Earth     False  F/0/S  TRAPPIST-1e  24.0  False   \n2     0003_01     Europa     False  A/0/S  TRAPPIST-1e  58.0   True   \n3     0003_02     Europa     False  A/0/S  TRAPPIST-1e  33.0  False   \n4     0004_01      Earth     False  F/1/S  TRAPPIST-1e  16.0  False   \n\n   RoomService  FoodCourt  ShoppingMall     Spa  VRDeck               Name  \\\n0          0.0        0.0           0.0     0.0     0.0    Maham Ofracculy   \n1        109.0        9.0          25.0   549.0    44.0       Juanna Vines   \n2         43.0     3576.0           0.0  6715.0    49.0      Altark Susent   \n3          0.0     1283.0         371.0  3329.0   193.0       Solam Susent   \n4        303.0       70.0         151.0   565.0     2.0  Willy Santantines   \n\n   Transported  \n0        False  \n1         True  \n2        False  \n3        False  \n4         True  ",
            "text/html": "<div>\n<style scoped>\n    .dataframe tbody tr th:only-of-type {\n        vertical-align: middle;\n    }\n\n    .dataframe tbody tr th {\n        vertical-align: top;\n    }\n\n    .dataframe thead th {\n        text-align: right;\n    }\n</style>\n<table border=\"1\" class=\"dataframe\">\n  <thead>\n    <tr style=\"text-align: right;\">\n      <th></th>\n      <th>PassengerId</th>\n      <th>HomePlanet</th>\n      <th>CryoSleep</th>\n      <th>Cabin</th>\n      <th>Destination</th>\n      <th>Age</th>\n      <th>VIP</th>\n      <th>RoomService</th>\n      <th>FoodCourt</th>\n      <th>ShoppingMall</th>\n      <th>Spa</th>\n      <th>VRDeck</th>\n      <th>Name</th>\n      <th>Transported</th>\n    </tr>\n  </thead>\n  <tbody>\n    <tr>\n      <th>0</th>\n      <td>0001_01</td>\n      <td>Europa</td>\n      <td>False</td>\n      <td>B/0/P</td>\n      <td>TRAPPIST-1e</td>\n      <td>39.0</td>\n      <td>False</td>\n      <td>0.0</td>\n      <td>0.0</td>\n      <td>0.0</td>\n      <td>0.0</td>\n      <td>0.0</td>\n      <td>Maham Ofracculy</td>\n      <td>False</td>\n    </tr>\n    <tr>\n      <th>1</th>\n      <td>0002_01</td>\n      <td>Earth</td>\n      <td>False</td>\n      <td>F/0/S</td>\n      <td>TRAPPIST-1e</td>\n      <td>24.0</td>\n      <td>False</td>\n      <td>109.0</td>\n      <td>9.0</td>\n      <td>25.0</td>\n      <td>549.0</td>\n      <td>44.0</td>\n      <td>Juanna Vines</td>\n      <td>True</td>\n    </tr>\n    <tr>\n      <th>2</th>\n      <td>0003_01</td>\n      <td>Europa</td>\n      <td>False</td>\n      <td>A/0/S</td>\n      <td>TRAPPIST-1e</td>\n      <td>58.0</td>\n      <td>True</td>\n      <td>43.0</td>\n      <td>3576.0</td>\n      <td>0.0</td>\n      <td>6715.0</td>\n      <td>49.0</td>\n      <td>Altark Susent</td>\n      <td>False</td>\n    </tr>\n    <tr>\n      <th>3</th>\n      <td>0003_02</td>\n      <td>Europa</td>\n      <td>False</td>\n      <td>A/0/S</td>\n      <td>TRAPPIST-1e</td>\n      <td>33.0</td>\n      <td>False</td>\n      <td>0.0</td>\n      <td>1283.0</td>\n      <td>371.0</td>\n      <td>3329.0</td>\n      <td>193.0</td>\n      <td>Solam Susent</td>\n      <td>False</td>\n    </tr>\n    <tr>\n      <th>4</th>\n      <td>0004_01</td>\n      <td>Earth</td>\n      <td>False</td>\n      <td>F/1/S</td>\n      <td>TRAPPIST-1e</td>\n      <td>16.0</td>\n      <td>False</td>\n      <td>303.0</td>\n      <td>70.0</td>\n      <td>151.0</td>\n      <td>565.0</td>\n      <td>2.0</td>\n      <td>Willy Santantines</td>\n      <td>True</td>\n    </tr>\n  </tbody>\n</table>\n</div>"
          },
          "metadata": {}
        }
      ]
    },
    {
      "cell_type": "markdown",
      "source": [
        "There are 12 feature columns. Using these features your model has to predict whether the passenger is rescued or not indicated by the column `Transported`."
      ],
      "metadata": {
        "id": "0-Euaq6dmnjN"
      }
    },
    {
      "cell_type": "markdown",
      "source": [
        "# Let us quickly do a basic exploration of the dataset"
      ],
      "metadata": {
        "id": "1-Ewr6XDmnjN"
      }
    },
    {
      "cell_type": "code",
      "source": [
        "dataset_df.describe()"
      ],
      "metadata": {
        "id": "XjwG5wjfmnjO",
        "execution": {
          "iopub.status.busy": "2023-12-07T11:31:31.296550Z",
          "iopub.execute_input": "2023-12-07T11:31:31.296999Z",
          "iopub.status.idle": "2023-12-07T11:31:31.338611Z",
          "shell.execute_reply.started": "2023-12-07T11:31:31.296964Z",
          "shell.execute_reply": "2023-12-07T11:31:31.337135Z"
        },
        "trusted": true,
        "outputId": "a2f48a27-9810-489f-c628-7f1a3fc6f69c"
      },
      "execution_count": null,
      "outputs": [
        {
          "execution_count": 5,
          "output_type": "execute_result",
          "data": {
            "text/plain": "               Age   RoomService     FoodCourt  ShoppingMall           Spa  \\\ncount  8514.000000   8512.000000   8510.000000   8485.000000   8510.000000   \nmean     28.827930    224.687617    458.077203    173.729169    311.138778   \nstd      14.489021    666.717663   1611.489240    604.696458   1136.705535   \nmin       0.000000      0.000000      0.000000      0.000000      0.000000   \n25%      19.000000      0.000000      0.000000      0.000000      0.000000   \n50%      27.000000      0.000000      0.000000      0.000000      0.000000   \n75%      38.000000     47.000000     76.000000     27.000000     59.000000   \nmax      79.000000  14327.000000  29813.000000  23492.000000  22408.000000   \n\n             VRDeck  \ncount   8505.000000  \nmean     304.854791  \nstd     1145.717189  \nmin        0.000000  \n25%        0.000000  \n50%        0.000000  \n75%       46.000000  \nmax    24133.000000  ",
            "text/html": "<div>\n<style scoped>\n    .dataframe tbody tr th:only-of-type {\n        vertical-align: middle;\n    }\n\n    .dataframe tbody tr th {\n        vertical-align: top;\n    }\n\n    .dataframe thead th {\n        text-align: right;\n    }\n</style>\n<table border=\"1\" class=\"dataframe\">\n  <thead>\n    <tr style=\"text-align: right;\">\n      <th></th>\n      <th>Age</th>\n      <th>RoomService</th>\n      <th>FoodCourt</th>\n      <th>ShoppingMall</th>\n      <th>Spa</th>\n      <th>VRDeck</th>\n    </tr>\n  </thead>\n  <tbody>\n    <tr>\n      <th>count</th>\n      <td>8514.000000</td>\n      <td>8512.000000</td>\n      <td>8510.000000</td>\n      <td>8485.000000</td>\n      <td>8510.000000</td>\n      <td>8505.000000</td>\n    </tr>\n    <tr>\n      <th>mean</th>\n      <td>28.827930</td>\n      <td>224.687617</td>\n      <td>458.077203</td>\n      <td>173.729169</td>\n      <td>311.138778</td>\n      <td>304.854791</td>\n    </tr>\n    <tr>\n      <th>std</th>\n      <td>14.489021</td>\n      <td>666.717663</td>\n      <td>1611.489240</td>\n      <td>604.696458</td>\n      <td>1136.705535</td>\n      <td>1145.717189</td>\n    </tr>\n    <tr>\n      <th>min</th>\n      <td>0.000000</td>\n      <td>0.000000</td>\n      <td>0.000000</td>\n      <td>0.000000</td>\n      <td>0.000000</td>\n      <td>0.000000</td>\n    </tr>\n    <tr>\n      <th>25%</th>\n      <td>19.000000</td>\n      <td>0.000000</td>\n      <td>0.000000</td>\n      <td>0.000000</td>\n      <td>0.000000</td>\n      <td>0.000000</td>\n    </tr>\n    <tr>\n      <th>50%</th>\n      <td>27.000000</td>\n      <td>0.000000</td>\n      <td>0.000000</td>\n      <td>0.000000</td>\n      <td>0.000000</td>\n      <td>0.000000</td>\n    </tr>\n    <tr>\n      <th>75%</th>\n      <td>38.000000</td>\n      <td>47.000000</td>\n      <td>76.000000</td>\n      <td>27.000000</td>\n      <td>59.000000</td>\n      <td>46.000000</td>\n    </tr>\n    <tr>\n      <th>max</th>\n      <td>79.000000</td>\n      <td>14327.000000</td>\n      <td>29813.000000</td>\n      <td>23492.000000</td>\n      <td>22408.000000</td>\n      <td>24133.000000</td>\n    </tr>\n  </tbody>\n</table>\n</div>"
          },
          "metadata": {}
        }
      ]
    },
    {
      "cell_type": "code",
      "source": [
        "dataset_df.info()"
      ],
      "metadata": {
        "id": "UmWpnVxQmnjO",
        "execution": {
          "iopub.status.busy": "2023-12-07T11:31:31.339943Z",
          "iopub.execute_input": "2023-12-07T11:31:31.340253Z",
          "iopub.status.idle": "2023-12-07T11:31:31.361567Z",
          "shell.execute_reply.started": "2023-12-07T11:31:31.340223Z",
          "shell.execute_reply": "2023-12-07T11:31:31.360026Z"
        },
        "trusted": true,
        "outputId": "439939b8-96ec-4984-ae2b-09721b7e6d3d"
      },
      "execution_count": null,
      "outputs": [
        {
          "name": "stdout",
          "text": "<class 'pandas.core.frame.DataFrame'>\nRangeIndex: 8693 entries, 0 to 8692\nData columns (total 14 columns):\n #   Column        Non-Null Count  Dtype  \n---  ------        --------------  -----  \n 0   PassengerId   8693 non-null   object \n 1   HomePlanet    8492 non-null   object \n 2   CryoSleep     8476 non-null   object \n 3   Cabin         8494 non-null   object \n 4   Destination   8511 non-null   object \n 5   Age           8514 non-null   float64\n 6   VIP           8490 non-null   object \n 7   RoomService   8512 non-null   float64\n 8   FoodCourt     8510 non-null   float64\n 9   ShoppingMall  8485 non-null   float64\n 10  Spa           8510 non-null   float64\n 11  VRDeck        8505 non-null   float64\n 12  Name          8493 non-null   object \n 13  Transported   8693 non-null   bool   \ndtypes: bool(1), float64(6), object(7)\nmemory usage: 891.5+ KB\n",
          "output_type": "stream"
        }
      ]
    },
    {
      "cell_type": "markdown",
      "source": [
        "# Bar chart for label column: Transported\n",
        "\n"
      ],
      "metadata": {
        "id": "PYbIPVaCmnjO"
      }
    },
    {
      "cell_type": "code",
      "source": [
        "plot_df = dataset_df.Transported.value_counts()\n",
        "plot_df.plot(kind=\"bar\")"
      ],
      "metadata": {
        "id": "DcaGweARmnjP",
        "execution": {
          "iopub.status.busy": "2023-12-07T11:31:31.364732Z",
          "iopub.execute_input": "2023-12-07T11:31:31.365137Z",
          "iopub.status.idle": "2023-12-07T11:31:31.741327Z",
          "shell.execute_reply.started": "2023-12-07T11:31:31.365106Z",
          "shell.execute_reply": "2023-12-07T11:31:31.740094Z"
        },
        "trusted": true,
        "outputId": "315cf62e-c9f6-4491-907a-59dbf86ecd84"
      },
      "execution_count": null,
      "outputs": [
        {
          "execution_count": 7,
          "output_type": "execute_result",
          "data": {
            "text/plain": "<AxesSubplot:>"
          },
          "metadata": {}
        },
        {
          "output_type": "display_data",
          "data": {
            "text/plain": "<Figure size 640x480 with 1 Axes>",
            "image/png": "[encoded data removed]"
          },
          "metadata": {}
        }
      ]
    },
    {
      "cell_type": "markdown",
      "source": [
        "# Numerical data distribution\n",
        "\n",
        "Let us plot all the numerical columns and their value counts:"
      ],
      "metadata": {
        "id": "LRO2hJlNmnjP"
      }
    },
    {
      "cell_type": "code",
      "source": [
        "fig, ax = plt.subplots(5,1,  figsize=(10, 10))\n",
        "plt.subplots_adjust(top = 2)\n",
        "\n",
        "sns.histplot(dataset_df['Age'], color='b', bins=50, ax=ax[0]);\n",
        "sns.histplot(dataset_df['FoodCourt'], color='b', bins=50, ax=ax[1]);\n",
        "sns.histplot(dataset_df['ShoppingMall'], color='b', bins=50, ax=ax[2]);\n",
        "sns.histplot(dataset_df['Spa'], color='b', bins=50, ax=ax[3]);\n",
        "sns.histplot(dataset_df['VRDeck'], color='b', bins=50, ax=ax[4]);"
      ],
      "metadata": {
        "id": "lafxj4fkmnjQ",
        "execution": {
          "iopub.status.busy": "2023-12-07T11:31:31.742481Z",
          "iopub.execute_input": "2023-12-07T11:31:31.742750Z",
          "iopub.status.idle": "2023-12-07T11:31:32.902508Z",
          "shell.execute_reply.started": "2023-12-07T11:31:31.742724Z",
          "shell.execute_reply": "2023-12-07T11:31:32.901348Z"
        },
        "trusted": true,
        "outputId": "f48f25bb-bce7-4d31-9e6f-b420a4aacbf0"
      },
      "execution_count": null,
      "outputs": [
        {
          "output_type": "display_data",
          "data": {
            "text/plain": "<Figure size 1000x1000 with 5 Axes>",
            "image/png": "[encoded data removed]"
          },
          "metadata": {}
        }
      ]
    },
    {
      "cell_type": "markdown",
      "source": [
        "# Prepare the dataset"
      ],
      "metadata": {
        "id": "Trlsxv1emnjQ"
      }
    },
    {
      "cell_type": "markdown",
      "source": [
        "We will drop both `PassengerId` and `Name` columns as they are not necessary for model training."
      ],
      "metadata": {
        "id": "c-BLN1jcmnjQ"
      }
    },
    {
      "cell_type": "code",
      "source": [
        "dataset_df = dataset_df.drop(['PassengerId', 'Name'], axis=1)\n",
        "dataset_df.head(5)"
      ],
      "metadata": {
        "id": "nftfBG67mnjR",
        "execution": {
          "iopub.status.busy": "2023-12-07T11:31:32.904126Z",
          "iopub.execute_input": "2023-12-07T11:31:32.904742Z",
          "iopub.status.idle": "2023-12-07T11:31:32.926287Z",
          "shell.execute_reply.started": "2023-12-07T11:31:32.904696Z",
          "shell.execute_reply": "2023-12-07T11:31:32.925272Z"
        },
        "trusted": true,
        "outputId": "05301ee3-a1a5-417c-b331-ba2b0030a69f"
      },
      "execution_count": null,
      "outputs": [
        {
          "execution_count": 9,
          "output_type": "execute_result",
          "data": {
            "text/plain": "  HomePlanet CryoSleep  Cabin  Destination   Age    VIP  RoomService  \\\n0     Europa     False  B/0/P  TRAPPIST-1e  39.0  False          0.0   \n1      Earth     False  F/0/S  TRAPPIST-1e  24.0  False        109.0   \n2     Europa     False  A/0/S  TRAPPIST-1e  58.0   True         43.0   \n3     Europa     False  A/0/S  TRAPPIST-1e  33.0  False          0.0   \n4      Earth     False  F/1/S  TRAPPIST-1e  16.0  False        303.0   \n\n   FoodCourt  ShoppingMall     Spa  VRDeck  Transported  \n0        0.0           0.0     0.0     0.0        False  \n1        9.0          25.0   549.0    44.0         True  \n2     3576.0           0.0  6715.0    49.0        False  \n3     1283.0         371.0  3329.0   193.0        False  \n4       70.0         151.0   565.0     2.0         True  ",
            "text/html": "<div>\n<style scoped>\n    .dataframe tbody tr th:only-of-type {\n        vertical-align: middle;\n    }\n\n    .dataframe tbody tr th {\n        vertical-align: top;\n    }\n\n    .dataframe thead th {\n        text-align: right;\n    }\n</style>\n<table border=\"1\" class=\"dataframe\">\n  <thead>\n    <tr style=\"text-align: right;\">\n      <th></th>\n      <th>HomePlanet</th>\n      <th>CryoSleep</th>\n      <th>Cabin</th>\n      <th>Destination</th>\n      <th>Age</th>\n      <th>VIP</th>\n      <th>RoomService</th>\n      <th>FoodCourt</th>\n      <th>ShoppingMall</th>\n      <th>Spa</th>\n      <th>VRDeck</th>\n      <th>Transported</th>\n    </tr>\n  </thead>\n  <tbody>\n    <tr>\n      <th>0</th>\n      <td>Europa</td>\n      <td>False</td>\n      <td>B/0/P</td>\n      <td>TRAPPIST-1e</td>\n      <td>39.0</td>\n      <td>False</td>\n      <td>0.0</td>\n      <td>0.0</td>\n      <td>0.0</td>\n      <td>0.0</td>\n      <td>0.0</td>\n      <td>False</td>\n    </tr>\n    <tr>\n      <th>1</th>\n      <td>Earth</td>\n      <td>False</td>\n      <td>F/0/S</td>\n      <td>TRAPPIST-1e</td>\n      <td>24.0</td>\n      <td>False</td>\n      <td>109.0</td>\n      <td>9.0</td>\n      <td>25.0</td>\n      <td>549.0</td>\n      <td>44.0</td>\n      <td>True</td>\n    </tr>\n    <tr>\n      <th>2</th>\n      <td>Europa</td>\n      <td>False</td>\n      <td>A/0/S</td>\n      <td>TRAPPIST-1e</td>\n      <td>58.0</td>\n      <td>True</td>\n      <td>43.0</td>\n      <td>3576.0</td>\n      <td>0.0</td>\n      <td>6715.0</td>\n      <td>49.0</td>\n      <td>False</td>\n    </tr>\n    <tr>\n      <th>3</th>\n      <td>Europa</td>\n      <td>False</td>\n      <td>A/0/S</td>\n      <td>TRAPPIST-1e</td>\n      <td>33.0</td>\n      <td>False</td>\n      <td>0.0</td>\n      <td>1283.0</td>\n      <td>371.0</td>\n      <td>3329.0</td>\n      <td>193.0</td>\n      <td>False</td>\n    </tr>\n    <tr>\n      <th>4</th>\n      <td>Earth</td>\n      <td>False</td>\n      <td>F/1/S</td>\n      <td>TRAPPIST-1e</td>\n      <td>16.0</td>\n      <td>False</td>\n      <td>303.0</td>\n      <td>70.0</td>\n      <td>151.0</td>\n      <td>565.0</td>\n      <td>2.0</td>\n      <td>True</td>\n    </tr>\n  </tbody>\n</table>\n</div>"
          },
          "metadata": {}
        }
      ]
    },
    {
      "cell_type": "markdown",
      "source": [
        "We will check for the missing values using the following code:"
      ],
      "metadata": {
        "id": "pXhbIKCemnjR"
      }
    },
    {
      "cell_type": "code",
      "source": [
        "dataset_df.isnull().sum().sort_values(ascending=False)"
      ],
      "metadata": {
        "id": "3_VMZ9a1mnjR",
        "execution": {
          "iopub.status.busy": "2023-12-07T11:31:32.927738Z",
          "iopub.execute_input": "2023-12-07T11:31:32.928354Z",
          "iopub.status.idle": "2023-12-07T11:31:32.939501Z",
          "shell.execute_reply.started": "2023-12-07T11:31:32.928315Z",
          "shell.execute_reply": "2023-12-07T11:31:32.938240Z"
        },
        "trusted": true,
        "outputId": "aa2e8c98-8a8c-47d4-a7ac-6519da4bfd7f"
      },
      "execution_count": null,
      "outputs": [
        {
          "execution_count": 10,
          "output_type": "execute_result",
          "data": {
            "text/plain": "CryoSleep       217\nShoppingMall    208\nVIP             203\nHomePlanet      201\nCabin           199\nVRDeck          188\nFoodCourt       183\nSpa             183\nDestination     182\nRoomService     181\nAge             179\nTransported       0\ndtype: int64"
          },
          "metadata": {}
        }
      ]
    },
    {
      "cell_type": "markdown",
      "source": [
        "This dataset contains a mix of numeric, categorical and missing features. TF-DF supports all these feature types natively, and no preprocessing is required.\n",
        "\n",
        "But this datatset also has boolean fields with missing values. TF-DF doesn't support boolean fields yet. So we need to convert those fields into int. To account for the missing values in the boolean fields, we will replace them with zero.\n",
        "\n",
        "In this notebook, we will replace null value entries with zero for numerical columns as well and only let TF-DF handle the missing values in categorical columns.\n",
        "\n",
        "Note: You can choose to let TF-DF handle missing values in numerical columns if need be."
      ],
      "metadata": {
        "id": "vlWOQl4fmnjS"
      }
    },
    {
      "cell_type": "code",
      "source": [
        "dataset_df[['VIP', 'CryoSleep', 'FoodCourt', 'ShoppingMall', 'Spa', 'VRDeck']] = dataset_df[['VIP', 'CryoSleep', 'FoodCourt', 'ShoppingMall', 'Spa', 'VRDeck']].fillna(value=0)\n",
        "dataset_df.isnull().sum().sort_values(ascending=False)"
      ],
      "metadata": {
        "id": "ASQ5Bh2JmnjS",
        "execution": {
          "iopub.status.busy": "2023-12-07T11:31:32.940762Z",
          "iopub.execute_input": "2023-12-07T11:31:32.941152Z",
          "iopub.status.idle": "2023-12-07T11:31:32.960575Z",
          "shell.execute_reply.started": "2023-12-07T11:31:32.941116Z",
          "shell.execute_reply": "2023-12-07T11:31:32.958944Z"
        },
        "trusted": true,
        "outputId": "5ac1b6b8-091f-4a61-f8dd-50f7440cb092"
      },
      "execution_count": null,
      "outputs": [
        {
          "execution_count": 11,
          "output_type": "execute_result",
          "data": {
            "text/plain": "HomePlanet      201\nCabin           199\nDestination     182\nRoomService     181\nAge             179\nCryoSleep         0\nVIP               0\nFoodCourt         0\nShoppingMall      0\nSpa               0\nVRDeck            0\nTransported       0\ndtype: int64"
          },
          "metadata": {}
        }
      ]
    },
    {
      "cell_type": "markdown",
      "source": [
        "Since, TF-DF cannot handle boolean columns, we will have to adjust the labels in column `Transported` to convert them into the integer format that TF-DF expects."
      ],
      "metadata": {
        "id": "tFbE6D0BmnjT"
      }
    },
    {
      "cell_type": "code",
      "source": [
        "label = \"Transported\"\n",
        "dataset_df[label] = dataset_df[label].astype(int)"
      ],
      "metadata": {
        "id": "-T6a_RTxmnjT",
        "execution": {
          "iopub.status.busy": "2023-12-07T11:31:32.961927Z",
          "iopub.execute_input": "2023-12-07T11:31:32.963168Z",
          "iopub.status.idle": "2023-12-07T11:31:32.970045Z",
          "shell.execute_reply.started": "2023-12-07T11:31:32.963108Z",
          "shell.execute_reply": "2023-12-07T11:31:32.968610Z"
        },
        "trusted": true
      },
      "execution_count": null,
      "outputs": []
    },
    {
      "cell_type": "markdown",
      "source": [
        "We will also convert the boolean fields `CryoSleep` and `VIP` to int."
      ],
      "metadata": {
        "id": "F6-GATuzmnjU"
      }
    },
    {
      "cell_type": "code",
      "source": [
        "dataset_df['VIP'] = dataset_df['VIP'].astype(int)\n",
        "dataset_df['CryoSleep'] = dataset_df['CryoSleep'].astype(int)"
      ],
      "metadata": {
        "id": "Wq6PbMnnmnjU",
        "execution": {
          "iopub.status.busy": "2023-12-07T11:31:32.971781Z",
          "iopub.execute_input": "2023-12-07T11:31:32.973162Z",
          "iopub.status.idle": "2023-12-07T11:31:32.982491Z",
          "shell.execute_reply.started": "2023-12-07T11:31:32.973114Z",
          "shell.execute_reply": "2023-12-07T11:31:32.981173Z"
        },
        "trusted": true
      },
      "execution_count": null,
      "outputs": []
    },
    {
      "cell_type": "markdown",
      "source": [
        "The value of column `Cabin` is a string with the format `Deck/Cabin_num/Side`. Here we will split the `Cabin` column and create 3 new columns `Deck`, `Cabin_num` and `Side`, since it will be easier to train the model on those individual data.\n",
        "\n",
        "Run the following command to split the column `Cabin` into columns `Deck`, `Cabin_num` and `Side`"
      ],
      "metadata": {
        "id": "enjp51h_mnjV"
      }
    },
    {
      "cell_type": "code",
      "source": [
        "dataset_df[[\"Deck\", \"Cabin_num\", \"Side\"]] = dataset_df[\"Cabin\"].str.split(\"/\", expand=True)"
      ],
      "metadata": {
        "id": "JeAuUvb_mnjV",
        "execution": {
          "iopub.status.busy": "2023-12-07T11:31:32.988412Z",
          "iopub.execute_input": "2023-12-07T11:31:32.988773Z",
          "iopub.status.idle": "2023-12-07T11:31:33.010920Z",
          "shell.execute_reply.started": "2023-12-07T11:31:32.988741Z",
          "shell.execute_reply": "2023-12-07T11:31:33.009000Z"
        },
        "trusted": true
      },
      "execution_count": null,
      "outputs": []
    },
    {
      "cell_type": "markdown",
      "source": [
        "Remove original `Cabin` column from the dataset since it's not needed anymore."
      ],
      "metadata": {
        "id": "vNYEd1AkmnjV"
      }
    },
    {
      "cell_type": "code",
      "source": [
        "try:\n",
        "    dataset_df = dataset_df.drop('Cabin', axis=1)\n",
        "except KeyError:\n",
        "    print(\"Field does not exist\")"
      ],
      "metadata": {
        "id": "dOcny3s4mnjV",
        "execution": {
          "iopub.status.busy": "2023-12-07T11:31:33.012426Z",
          "iopub.execute_input": "2023-12-07T11:31:33.012789Z",
          "iopub.status.idle": "2023-12-07T11:31:33.020687Z",
          "shell.execute_reply.started": "2023-12-07T11:31:33.012758Z",
          "shell.execute_reply": "2023-12-07T11:31:33.019279Z"
        },
        "trusted": true
      },
      "execution_count": null,
      "outputs": []
    },
    {
      "cell_type": "markdown",
      "source": [
        "Let us display the first 5 examples from the prepared dataset."
      ],
      "metadata": {
        "id": "Y7byxj5FmnjW"
      }
    },
    {
      "cell_type": "code",
      "source": [
        "dataset_df.head(5)"
      ],
      "metadata": {
        "id": "g0U1OKAYmnjW",
        "execution": {
          "iopub.status.busy": "2023-12-07T11:31:33.022370Z",
          "iopub.execute_input": "2023-12-07T11:31:33.022938Z",
          "iopub.status.idle": "2023-12-07T11:31:33.044820Z",
          "shell.execute_reply.started": "2023-12-07T11:31:33.022902Z",
          "shell.execute_reply": "2023-12-07T11:31:33.043197Z"
        },
        "trusted": true,
        "outputId": "6e6bb79b-2050-46bd-87ca-8ea5d44867b6"
      },
      "execution_count": null,
      "outputs": [
        {
          "execution_count": 16,
          "output_type": "execute_result",
          "data": {
            "text/plain": "  HomePlanet  CryoSleep  Destination   Age  VIP  RoomService  FoodCourt  \\\n0     Europa          0  TRAPPIST-1e  39.0    0          0.0        0.0   \n1      Earth          0  TRAPPIST-1e  24.0    0        109.0        9.0   \n2     Europa          0  TRAPPIST-1e  58.0    1         43.0     3576.0   \n3     Europa          0  TRAPPIST-1e  33.0    0          0.0     1283.0   \n4      Earth          0  TRAPPIST-1e  16.0    0        303.0       70.0   \n\n   ShoppingMall     Spa  VRDeck  Transported Deck Cabin_num Side  \n0           0.0     0.0     0.0            0    B         0    P  \n1          25.0   549.0    44.0            1    F         0    S  \n2           0.0  6715.0    49.0            0    A         0    S  \n3         371.0  3329.0   193.0            0    A         0    S  \n4         151.0   565.0     2.0            1    F         1    S  ",
            "text/html": "<div>\n<style scoped>\n    .dataframe tbody tr th:only-of-type {\n        vertical-align: middle;\n    }\n\n    .dataframe tbody tr th {\n        vertical-align: top;\n    }\n\n    .dataframe thead th {\n        text-align: right;\n    }\n</style>\n<table border=\"1\" class=\"dataframe\">\n  <thead>\n    <tr style=\"text-align: right;\">\n      <th></th>\n      <th>HomePlanet</th>\n      <th>CryoSleep</th>\n      <th>Destination</th>\n      <th>Age</th>\n      <th>VIP</th>\n      <th>RoomService</th>\n      <th>FoodCourt</th>\n      <th>ShoppingMall</th>\n      <th>Spa</th>\n      <th>VRDeck</th>\n      <th>Transported</th>\n      <th>Deck</th>\n      <th>Cabin_num</th>\n      <th>Side</th>\n    </tr>\n  </thead>\n  <tbody>\n    <tr>\n      <th>0</th>\n      <td>Europa</td>\n      <td>0</td>\n      <td>TRAPPIST-1e</td>\n      <td>39.0</td>\n      <td>0</td>\n      <td>0.0</td>\n      <td>0.0</td>\n      <td>0.0</td>\n      <td>0.0</td>\n      <td>0.0</td>\n      <td>0</td>\n      <td>B</td>\n      <td>0</td>\n      <td>P</td>\n    </tr>\n    <tr>\n      <th>1</th>\n      <td>Earth</td>\n      <td>0</td>\n      <td>TRAPPIST-1e</td>\n      <td>24.0</td>\n      <td>0</td>\n      <td>109.0</td>\n      <td>9.0</td>\n      <td>25.0</td>\n      <td>549.0</td>\n      <td>44.0</td>\n      <td>1</td>\n      <td>F</td>\n      <td>0</td>\n      <td>S</td>\n    </tr>\n    <tr>\n      <th>2</th>\n      <td>Europa</td>\n      <td>0</td>\n      <td>TRAPPIST-1e</td>\n      <td>58.0</td>\n      <td>1</td>\n      <td>43.0</td>\n      <td>3576.0</td>\n      <td>0.0</td>\n      <td>6715.0</td>\n      <td>49.0</td>\n      <td>0</td>\n      <td>A</td>\n      <td>0</td>\n      <td>S</td>\n    </tr>\n    <tr>\n      <th>3</th>\n      <td>Europa</td>\n      <td>0</td>\n      <td>TRAPPIST-1e</td>\n      <td>33.0</td>\n      <td>0</td>\n      <td>0.0</td>\n      <td>1283.0</td>\n      <td>371.0</td>\n      <td>3329.0</td>\n      <td>193.0</td>\n      <td>0</td>\n      <td>A</td>\n      <td>0</td>\n      <td>S</td>\n    </tr>\n    <tr>\n      <th>4</th>\n      <td>Earth</td>\n      <td>0</td>\n      <td>TRAPPIST-1e</td>\n      <td>16.0</td>\n      <td>0</td>\n      <td>303.0</td>\n      <td>70.0</td>\n      <td>151.0</td>\n      <td>565.0</td>\n      <td>2.0</td>\n      <td>1</td>\n      <td>F</td>\n      <td>1</td>\n      <td>S</td>\n    </tr>\n  </tbody>\n</table>\n</div>"
          },
          "metadata": {}
        }
      ]
    },
    {
      "cell_type": "markdown",
      "source": [
        "Now let us split the dataset into training and testing datasets:"
      ],
      "metadata": {
        "id": "l6EmJsSfmnjW"
      }
    },
    {
      "cell_type": "code",
      "source": [
        "def split_dataset(dataset, test_ratio=0.20):\n",
        "  test_indices = np.random.rand(len(dataset)) < test_ratio\n",
        "  return dataset[~test_indices], dataset[test_indices]\n",
        "\n",
        "train_ds_pd, valid_ds_pd = split_dataset(dataset_df)\n",
        "print(\"{} examples in training, {} examples in testing.\".format(\n",
        "    len(train_ds_pd), len(valid_ds_pd)))"
      ],
      "metadata": {
        "id": "_drMgwAAmnjX",
        "execution": {
          "iopub.status.busy": "2023-12-07T11:31:33.046708Z",
          "iopub.execute_input": "2023-12-07T11:31:33.047122Z",
          "iopub.status.idle": "2023-12-07T11:31:33.057234Z",
          "shell.execute_reply.started": "2023-12-07T11:31:33.047089Z",
          "shell.execute_reply": "2023-12-07T11:31:33.055839Z"
        },
        "trusted": true,
        "outputId": "6b44ef51-2557-4b05-a991-557b5be893b3"
      },
      "execution_count": null,
      "outputs": [
        {
          "name": "stdout",
          "text": "6896 examples in training, 1797 examples in testing.\n",
          "output_type": "stream"
        }
      ]
    },
    {
      "cell_type": "markdown",
      "source": [
        "There's one more step required before we can train the model. We need to convert the datatset from Pandas format (`pd.DataFrame`) into TensorFlow Datasets format (`tf.data.Dataset`).\n",
        "\n",
        "[TensorFlow Datasets](https://www.tensorflow.org/datasets/overview) is a high performance data loading library which is helpful when training neural networks with accelerators like GPUs and TPUs."
      ],
      "metadata": {
        "id": "_gg4nfB1mnjX"
      }
    },
    {
      "cell_type": "code",
      "source": [
        "train_ds = tfdf.keras.pd_dataframe_to_tf_dataset(train_ds_pd, label=label)\n",
        "valid_ds = tfdf.keras.pd_dataframe_to_tf_dataset(valid_ds_pd, label=label)"
      ],
      "metadata": {
        "id": "LZADOplXmnjX",
        "execution": {
          "iopub.status.busy": "2023-12-07T11:31:33.058541Z",
          "iopub.execute_input": "2023-12-07T11:31:33.059121Z",
          "iopub.status.idle": "2023-12-07T11:31:33.213085Z",
          "shell.execute_reply.started": "2023-12-07T11:31:33.059080Z",
          "shell.execute_reply": "2023-12-07T11:31:33.211919Z"
        },
        "trusted": true
      },
      "execution_count": null,
      "outputs": []
    },
    {
      "cell_type": "markdown",
      "source": [
        "# Select a Model\n",
        "\n",
        "There are several tree-based models for you to choose from.\n",
        "\n",
        "* RandomForestModel\n",
        "* GradientBoostedTreesModel\n",
        "* CartModel\n",
        "* DistributedGradientBoostedTreesModel\n",
        "\n",
        "To start, we'll work with a Random Forest. This is the most well-known of the Decision Forest training algorithms.\n",
        "\n",
        "A Random Forest is a collection of decision trees, each trained independently on a random subset of the training dataset (sampled with replacement). The algorithm is unique in that it is robust to overfitting, and easy to use.\n",
        "\n",
        "We can list the all the available models in TensorFlow Decision Forests using the following code:"
      ],
      "metadata": {
        "id": "0-xUiOTwmnjY"
      }
    },
    {
      "cell_type": "code",
      "source": [
        "tfdf.keras.get_all_models()"
      ],
      "metadata": {
        "id": "PdQw1cWbmnjY",
        "execution": {
          "iopub.status.busy": "2023-12-07T11:31:33.214304Z",
          "iopub.execute_input": "2023-12-07T11:31:33.214606Z",
          "iopub.status.idle": "2023-12-07T11:31:33.221488Z",
          "shell.execute_reply.started": "2023-12-07T11:31:33.214577Z",
          "shell.execute_reply": "2023-12-07T11:31:33.220091Z"
        },
        "trusted": true,
        "outputId": "19e99b5f-884e-42db-c831-6edd8f49db41"
      },
      "execution_count": null,
      "outputs": [
        {
          "execution_count": 19,
          "output_type": "execute_result",
          "data": {
            "text/plain": "[tensorflow_decision_forests.keras.RandomForestModel,\n tensorflow_decision_forests.keras.GradientBoostedTreesModel,\n tensorflow_decision_forests.keras.CartModel,\n tensorflow_decision_forests.keras.DistributedGradientBoostedTreesModel]"
          },
          "metadata": {}
        }
      ]
    },
    {
      "cell_type": "markdown",
      "source": [
        "# Configure the model\n",
        "\n",
        "TensorFlow Decision Forests provides good defaults for you (e.g. the top ranking hyperparameters on our benchmarks, slightly modified to run in reasonable time). If you would like to configure the learning algorithm, you will find many options you can explore to get the highest possible accuracy.\n",
        "\n",
        "You can select a template and/or set parameters as follows:\n",
        "\n",
        "```rf = tfdf.keras.RandomForestModel(hyperparameter_template=\"benchmark_rank1\")```\n",
        "\n",
        "Read more [here](https://www.tensorflow.org/decision_forests/api_docs/python/tfdf/keras/RandomForestModel)."
      ],
      "metadata": {
        "id": "sy81fpfxmnjY"
      }
    },
    {
      "cell_type": "markdown",
      "source": [
        "# Create a Random Forest\n",
        "\n",
        "Today, we will use the defaults to create the Random Forest Model. By default the model is set to train for a classification task."
      ],
      "metadata": {
        "id": "AfJMCA6lmnjZ"
      }
    },
    {
      "cell_type": "markdown",
      "source": [],
      "metadata": {
        "id": "Gh9ijzJ8OZSx"
      }
    },
    {
      "cell_type": "code",
      "source": [
        "rf = tfdf.keras.RandomForestModel()\n",
        "rf.compile(metrics=[\"mean_squared_error\"]) # Optional, you can use this to include a list of eval metrics"
      ],
      "metadata": {
        "id": "j7-gFVDNmnjZ",
        "execution": {
          "iopub.status.busy": "2023-12-07T11:34:10.830069Z",
          "iopub.execute_input": "2023-12-07T11:34:10.830479Z",
          "iopub.status.idle": "2023-12-07T11:34:10.853432Z",
          "shell.execute_reply.started": "2023-12-07T11:34:10.830443Z",
          "shell.execute_reply": "2023-12-07T11:34:10.852025Z"
        },
        "trusted": true,
        "outputId": "aee1d82f-d97c-4471-a149-079feacc86cf"
      },
      "execution_count": null,
      "outputs": [
        {
          "name": "stdout",
          "text": "Use /tmp/tmpoisxndes as temporary training directory\n",
          "output_type": "stream"
        }
      ]
    },
    {
      "cell_type": "markdown",
      "source": [
        "# Train the model\n",
        "\n",
        "We will train the model using a one-liner.\n",
        "\n",
        "Note: you may see a warning about Autograph. You can safely ignore this, it will be fixed in the next release."
      ],
      "metadata": {
        "id": "wEQXtv4MmnjZ"
      }
    },
    {
      "cell_type": "code",
      "source": [
        "rf.fit(x=train_ds)"
      ],
      "metadata": {
        "id": "QcL5KRyLmnja",
        "execution": {
          "iopub.status.busy": "2023-12-07T11:34:22.061068Z",
          "iopub.execute_input": "2023-12-07T11:34:22.061486Z",
          "iopub.status.idle": "2023-12-07T11:34:59.919397Z",
          "shell.execute_reply.started": "2023-12-07T11:34:22.061454Z",
          "shell.execute_reply": "2023-12-07T11:34:59.918153Z"
        },
        "trusted": true,
        "outputId": "93f5c75d-0a65-4111-d9eb-09596d57a36c"
      },
      "execution_count": null,
      "outputs": [
        {
          "name": "stdout",
          "text": "Reading training dataset...\nTraining dataset read in 0:00:00.273732. Found 6896 examples.\nTraining model...\n",
          "output_type": "stream"
        },
        {
          "name": "stderr",
          "text": "[INFO 2023-12-07T11:34:59.078669611+00:00 kernel.cc:1214] Loading model from path /tmp/tmpoisxndes/model/ with prefix bf5eff3d7d9b415a\n",
          "output_type": "stream"
        },
        {
          "name": "stdout",
          "text": "Model trained in 0:00:37.317645\nCompiling model...\n",
          "output_type": "stream"
        },
        {
          "name": "stderr",
          "text": "[INFO 2023-12-07T11:34:59.628327987+00:00 decision_forest.cc:661] Model loaded with 300 root(s), 230242 node(s), and 13 input feature(s).\n[INFO 2023-12-07T11:34:59.628368706+00:00 abstract_model.cc:1311] Engine \"RandomForestGeneric\" built\n[INFO 2023-12-07T11:34:59.628389796+00:00 kernel.cc:1046] Use fast generic engine\n",
          "output_type": "stream"
        },
        {
          "name": "stdout",
          "text": "Model compiled.\n",
          "output_type": "stream"
        },
        {
          "execution_count": 28,
          "output_type": "execute_result",
          "data": {
            "text/plain": "<keras.callbacks.History at 0x7fc3736e7190>"
          },
          "metadata": {}
        }
      ]
    },
    {
      "cell_type": "markdown",
      "source": [
        "# Visualize the model\n",
        "One benefit of tree-based models is that we can easily visualize them. The default number of trees used in the Random Forests is 300. We can select a tree to display below."
      ],
      "metadata": {
        "id": "HQaPDLBjmnja"
      }
    },
    {
      "cell_type": "code",
      "source": [
        "tfdf.model_plotter.plot_model_in_colab(rf, tree_idx=0, max_depth=3)"
      ],
      "metadata": {
        "id": "hSao4Qstmnja",
        "execution": {
          "iopub.status.busy": "2023-12-07T11:34:59.921114Z",
          "iopub.execute_input": "2023-12-07T11:34:59.921452Z",
          "iopub.status.idle": "2023-12-07T11:35:00.259146Z",
          "shell.execute_reply.started": "2023-12-07T11:34:59.921413Z",
          "shell.execute_reply": "2023-12-07T11:35:00.257690Z"
        },
        "trusted": true,
        "outputId": "e2b012c8-13e3-470a-e882-ecc4a13b90dd"
      },
      "execution_count": null,
      "outputs": [
        {
          "execution_count": 29,
          "output_type": "execute_result",
          "data": {
            "text/plain": "<IPython.core.display.HTML object>",
            "text/html": "\n<script src=\"https://d3js.org/d3.v6.min.js\"></script>\n<div id=\"tree_plot_18fd399042a14d759fad9690185c7caf\"></div>\n<script>\n/*\n * Copyright 2021 Google LLC.\n * Licensed under the Apache License, Version 2.0 (the \"License\");\n * you may not use this file except in compliance with the License.\n * You may obtain a copy of the License at\n *\n *     https://www.apache.org/licenses/LICENSE-2.0\n *\n * Unless required by applicable law or agreed to in writing, software\n * distributed under the License is distributed on an \"AS IS\" BASIS,\n * WITHOUT WARRANTIES OR CONDITIONS OF ANY KIND, either express or implied.\n * See the License for the specific language governing permissions and\n * limitations under the License.\n */\n\n/**\n *  Plotting of decision trees generated by TF-DF.\n *\n *  A tree is a recursive structure of node objects.\n *  A node contains one or more of the following components:\n *\n *    - A value: Representing the output of the node. If the node is not a leaf,\n *      the value is only present for analysis i.e. it is not used for\n *      predictions.\n *\n *    - A condition : For non-leaf nodes, the condition (also known as split)\n *      defines a binary test to branch to the positive or negative child.\n *\n *    - An explanation: Generally a plot showing the relation between the label\n *      and the condition to give insights about the effect of the condition.\n *\n *    - Two children : For non-leaf nodes, the children nodes. The first\n *      children (i.e. \"node.children[0]\") is the negative children (drawn in\n *      red). The second children is the positive one (drawn in green).\n *\n */\n\n/**\n * Plots a single decision tree into a DOM element.\n * @param {!options} options Dictionary of configurations.\n * @param {!tree} raw_tree Recursive tree structure.\n * @param {string} canvas_id Id of the output dom element.\n */\nfunction display_tree(options, raw_tree, canvas_id) {\n  console.log(options);\n\n  // Determine the node placement.\n  const tree_struct = d3.tree().nodeSize(\n      [options.node_y_offset, options.node_x_offset])(d3.hierarchy(raw_tree));\n\n  // Boundaries of the node placement.\n  let x_min = Infinity;\n  let x_max = -x_min;\n  let y_min = Infinity;\n  let y_max = -x_min;\n\n  tree_struct.each(d => {\n    if (d.x > x_max) x_max = d.x;\n    if (d.x < x_min) x_min = d.x;\n    if (d.y > y_max) y_max = d.y;\n    if (d.y < y_min) y_min = d.y;\n  });\n\n  // Size of the plot.\n  const width = y_max - y_min + options.node_x_size + options.margin * 2;\n  const height = x_max - x_min + options.node_y_size + options.margin * 2 +\n      options.node_y_offset - options.node_y_size;\n\n  const plot = d3.select(canvas_id);\n\n  // Tool tip\n  options.tooltip = plot.append('div')\n                        .attr('width', 100)\n                        .attr('height', 100)\n                        .style('padding', '4px')\n                        .style('background', '#fff')\n                        .style('box-shadow', '4px 4px 0px rgba(0,0,0,0.1)')\n                        .style('border', '1px solid black')\n                        .style('font-family', 'sans-serif')\n                        .style('font-size', options.font_size)\n                        .style('position', 'absolute')\n                        .style('z-index', '10')\n                        .attr('pointer-events', 'none')\n                        .style('display', 'none');\n\n  // Create canvas\n  const svg = plot.append('svg').attr('width', width).attr('height', height);\n  const graph =\n      svg.style('overflow', 'visible')\n          .append('g')\n          .attr('font-family', 'sans-serif')\n          .attr('font-size', options.font_size)\n          .attr(\n              'transform',\n              () => `translate(${options.margin},${\n                  - x_min + options.node_y_offset / 2 + options.margin})`);\n\n  // Plot bounding box.\n  if (options.show_plot_bounding_box) {\n    svg.append('rect')\n        .attr('width', width)\n        .attr('height', height)\n        .attr('fill', 'none')\n        .attr('stroke-width', 1.0)\n        .attr('stroke', 'black');\n  }\n\n  // Draw the edges.\n  display_edges(options, graph, tree_struct);\n\n  // Draw the nodes.\n  display_nodes(options, graph, tree_struct);\n}\n\n/**\n * Draw the nodes of the tree.\n * @param {!options} options Dictionary of configurations.\n * @param {!graph} graph D3 search handle containing the graph.\n * @param {!tree_struct} tree_struct Structure of the tree (node placement,\n *     data, etc.).\n */\nfunction display_nodes(options, graph, tree_struct) {\n  const nodes = graph.append('g')\n                    .selectAll('g')\n                    .data(tree_struct.descendants())\n                    .join('g')\n                    .attr('transform', d => `translate(${d.y},${d.x})`);\n\n  nodes.append('rect')\n      .attr('x', 0.5)\n      .attr('y', 0.5)\n      .attr('width', options.node_x_size)\n      .attr('height', options.node_y_size)\n      .attr('stroke', 'lightgrey')\n      .attr('stroke-width', 1)\n      .attr('fill', 'white')\n      .attr('y', -options.node_y_size / 2);\n\n  // Brackets on the right of condition nodes without children.\n  non_leaf_node_without_children =\n      nodes.filter(node => node.data.condition != null && node.children == null)\n          .append('g')\n          .attr('transform', `translate(${options.node_x_size},0)`);\n\n  non_leaf_node_without_children.append('path')\n      .attr('d', 'M0,0 C 10,0 0,10 10,10')\n      .attr('fill', 'none')\n      .attr('stroke-width', 1.0)\n      .attr('stroke', '#F00');\n\n  non_leaf_node_without_children.append('path')\n      .attr('d', 'M0,0 C 10,0 0,-10 10,-10')\n      .attr('fill', 'none')\n      .attr('stroke-width', 1.0)\n      .attr('stroke', '#0F0');\n\n  const node_content = nodes.append('g').attr(\n      'transform',\n      `translate(0,${options.node_padding - options.node_y_size / 2})`);\n\n  node_content.append(node => create_node_element(options, node));\n}\n\n/**\n * Creates the D3 content for a single node.\n * @param {!options} options Dictionary of configurations.\n * @param {!node} node Node to draw.\n * @return {!d3} D3 content.\n */\nfunction create_node_element(options, node) {\n  // Output accumulator.\n  let output = {\n    // Content to draw.\n    content: d3.create('svg:g'),\n    // Vertical offset to the next element to draw.\n    vertical_offset: 0\n  };\n\n  // Conditions.\n  if (node.data.condition != null) {\n    display_condition(options, node.data.condition, output);\n  }\n\n  // Values.\n  if (node.data.value != null) {\n    display_value(options, node.data.value, output);\n  }\n\n  // Explanations.\n  if (node.data.explanation != null) {\n    display_explanation(options, node.data.explanation, output);\n  }\n\n  return output.content.node();\n}\n\n\n/**\n * Adds a single line of text inside of a node.\n * @param {!options} options Dictionary of configurations.\n * @param {string} text Text to display.\n * @param {!output} output Output display accumulator.\n */\nfunction display_node_text(options, text, output) {\n  output.content.append('text')\n      .attr('x', options.node_padding)\n      .attr('y', output.vertical_offset)\n      .attr('alignment-baseline', 'hanging')\n      .text(text);\n  output.vertical_offset += 10;\n}\n\n/**\n * Adds a single line of text inside of a node with a tooltip.\n * @param {!options} options Dictionary of configurations.\n * @param {string} text Text to display.\n * @param {string} tooltip Text in the Tooltip.\n * @param {!output} output Output display accumulator.\n */\nfunction display_node_text_with_tooltip(options, text, tooltip, output) {\n  const item = output.content.append('text')\n                   .attr('x', options.node_padding)\n                   .attr('alignment-baseline', 'hanging')\n                   .text(text);\n\n  add_tooltip(options, item, () => tooltip);\n  output.vertical_offset += 10;\n}\n\n/**\n * Adds a tooltip to a dom element.\n * @param {!options} options Dictionary of configurations.\n * @param {!dom} target Dom element to equip with a tooltip.\n * @param {!func} get_content Generates the html content of the tooltip.\n */\nfunction add_tooltip(options, target, get_content) {\n  function show(d) {\n    options.tooltip.style('display', 'block');\n    options.tooltip.html(get_content());\n  }\n\n  function hide(d) {\n    options.tooltip.style('display', 'none');\n  }\n\n  function move(d) {\n    options.tooltip.style('display', 'block');\n    options.tooltip.style('left', (d.pageX + 5) + 'px');\n    options.tooltip.style('top', d.pageY + 'px');\n  }\n\n  target.on('mouseover', show);\n  target.on('mouseout', hide);\n  target.on('mousemove', move);\n}\n\n/**\n * Adds a condition inside of a node.\n * @param {!options} options Dictionary of configurations.\n * @param {!condition} condition Condition to display.\n * @param {!output} output Output display accumulator.\n */\nfunction display_condition(options, condition, output) {\n  threshold_format = d3.format('r');\n\n  if (condition.type === 'IS_MISSING') {\n    display_node_text(options, `${condition.attribute} is missing`, output);\n    return;\n  }\n\n  if (condition.type === 'IS_TRUE') {\n    display_node_text(options, `${condition.attribute} is true`, output);\n    return;\n  }\n\n  if (condition.type === 'NUMERICAL_IS_HIGHER_THAN') {\n    format = d3.format('r');\n    display_node_text(\n        options,\n        `${condition.attribute} >= ${threshold_format(condition.threshold)}`,\n        output);\n    return;\n  }\n\n  if (condition.type === 'CATEGORICAL_IS_IN') {\n    display_node_text_with_tooltip(\n        options, `${condition.attribute} in [...]`,\n        `${condition.attribute} in [${condition.mask}]`, output);\n    return;\n  }\n\n  if (condition.type === 'CATEGORICAL_SET_CONTAINS') {\n    display_node_text_with_tooltip(\n        options, `${condition.attribute} intersect [...]`,\n        `${condition.attribute} intersect [${condition.mask}]`, output);\n    return;\n  }\n\n  if (condition.type === 'NUMERICAL_SPARSE_OBLIQUE') {\n    display_node_text_with_tooltip(\n        options, `Sparse oblique split...`,\n        `[${condition.attributes}]*[${condition.weights}]>=${\n            threshold_format(condition.threshold)}`,\n        output);\n    return;\n  }\n\n  display_node_text(\n      options, `Non supported condition ${condition.type}`, output);\n}\n\n/**\n * Adds a value inside of a node.\n * @param {!options} options Dictionary of configurations.\n * @param {!value} value Value to display.\n * @param {!output} output Output display accumulator.\n */\nfunction display_value(options, value, output) {\n  if (value.type === 'PROBABILITY') {\n    const left_margin = 0;\n    const right_margin = 50;\n    const plot_width = options.node_x_size - options.node_padding * 2 -\n        left_margin - right_margin;\n\n    let cusum = Array.from(d3.cumsum(value.distribution));\n    cusum.unshift(0);\n    const distribution_plot = output.content.append('g').attr(\n        'transform', `translate(0,${output.vertical_offset + 0.5})`);\n\n    distribution_plot.selectAll('rect')\n        .data(value.distribution)\n        .join('rect')\n        .attr('height', 10)\n        .attr(\n            'x',\n            (d, i) =>\n                (cusum[i] * plot_width + left_margin + options.node_padding))\n        .attr('width', (d, i) => d * plot_width)\n        .style('fill', (d, i) => d3.schemeSet1[i]);\n\n    const num_examples =\n        output.content.append('g')\n            .attr('transform', `translate(0,${output.vertical_offset})`)\n            .append('text')\n            .attr('x', options.node_x_size - options.node_padding)\n            .attr('alignment-baseline', 'hanging')\n            .attr('text-anchor', 'end')\n            .text(`(${value.num_examples})`);\n\n    const distribution_details = d3.create('ul');\n    distribution_details.selectAll('li')\n        .data(value.distribution)\n        .join('li')\n        .append('span')\n        .text(\n            (d, i) =>\n                'class ' + i + ': ' + d3.format('.3%')(value.distribution[i]));\n\n    add_tooltip(options, distribution_plot, () => distribution_details.html());\n    add_tooltip(options, num_examples, () => 'Number of examples');\n\n    output.vertical_offset += 10;\n    return;\n  }\n\n  if (value.type === 'REGRESSION') {\n    display_node_text(\n        options,\n        'value: ' + d3.format('r')(value.value) + ` (` +\n            d3.format('.6')(value.num_examples) + `)`,\n        output);\n    return;\n  }\n\n  display_node_text(options, `Non supported value ${value.type}`, output);\n}\n\n/**\n * Adds an explanation inside of a node.\n * @param {!options} options Dictionary of configurations.\n * @param {!explanation} explanation Explanation to display.\n * @param {!output} output Output display accumulator.\n */\nfunction display_explanation(options, explanation, output) {\n  // Margin before the explanation.\n  output.vertical_offset += 10;\n\n  display_node_text(\n      options, `Non supported explanation ${explanation.type}`, output);\n}\n\n\n/**\n * Draw the edges of the tree.\n * @param {!options} options Dictionary of configurations.\n * @param {!graph} graph D3 search handle containing the graph.\n * @param {!tree_struct} tree_struct Structure of the tree (node placement,\n *     data, etc.).\n */\nfunction display_edges(options, graph, tree_struct) {\n  // Draw an edge between a parent and a child node with a bezier.\n  function draw_single_edge(d) {\n    return 'M' + (d.source.y + options.node_x_size) + ',' + d.source.x + ' C' +\n        (d.source.y + options.node_x_size + options.edge_rounding) + ',' +\n        d.source.x + ' ' + (d.target.y - options.edge_rounding) + ',' +\n        d.target.x + ' ' + d.target.y + ',' + d.target.x;\n  }\n\n  graph.append('g')\n      .attr('fill', 'none')\n      .attr('stroke-width', 1.2)\n      .selectAll('path')\n      .data(tree_struct.links())\n      .join('path')\n      .attr('d', draw_single_edge)\n      .attr(\n          'stroke', d => (d.target === d.source.children[0]) ? '#0F0' : '#F00');\n}\n\ndisplay_tree({\"margin\": 10, \"node_x_size\": 160, \"node_y_size\": 28, \"node_x_offset\": 180, \"node_y_offset\": 33, \"font_size\": 10, \"edge_rounding\": 20, \"node_padding\": 2, \"show_plot_bounding_box\": false}, {\"value\": {\"type\": \"PROBABILITY\", \"distribution\": [0.4927494199535963, 0.5072505800464037], \"num_examples\": 6896.0}, \"condition\": {\"type\": \"NUMERICAL_IS_HIGHER_THAN\", \"attribute\": \"CryoSleep\", \"threshold\": 0.5}, \"children\": [{\"value\": {\"type\": \"PROBABILITY\", \"distribution\": [0.1734900689096068, 0.8265099310903932], \"num_examples\": 2467.0}, \"condition\": {\"type\": \"CATEGORICAL_IS_IN\", \"attribute\": \"Destination\", \"mask\": [\"55 Cancri e\"]}, \"children\": [{\"value\": {\"type\": \"PROBABILITY\", \"distribution\": [0.06403940886699508, 0.9359605911330049], \"num_examples\": 609.0}, \"condition\": {\"type\": \"CATEGORICAL_IS_IN\", \"attribute\": \"HomePlanet\", \"mask\": [\"Europa\"]}, \"children\": [{\"value\": {\"type\": \"PROBABILITY\", \"distribution\": [0.002702702702702703, 0.9972972972972973], \"num_examples\": 370.0}, \"condition\": {\"type\": \"CATEGORICAL_IS_IN\", \"attribute\": \"Deck\", \"mask\": [\"F\", \"E\", \"B\", \"C\", \"D\"]}}, {\"value\": {\"type\": \"PROBABILITY\", \"distribution\": [0.1589958158995816, 0.8410041841004184], \"num_examples\": 239.0}, \"condition\": {\"type\": \"CATEGORICAL_IS_IN\", \"attribute\": \"Cabin_num\", \"mask\": [\"86\", \"9\", \"18\", \"20\", \"133\", \"107\", \"92\", \"267\", \"209\", \"1046\", \"93\", \"73\", \"469\", \"206\", \"1194\", \"307\", \"265\", \"1416\", \"1108\", \"1050\", \"659\", \"554\", \"303\", \"1294\"]}}]}, {\"value\": {\"type\": \"PROBABILITY\", \"distribution\": [0.2093649085037675, 0.7906350914962325], \"num_examples\": 1858.0}, \"condition\": {\"type\": \"CATEGORICAL_IS_IN\", \"attribute\": \"Deck\", \"mask\": [\"F\", \"B\", \"C\", \"D\", \"A\"]}, \"children\": [{\"value\": {\"type\": \"PROBABILITY\", \"distribution\": [0.0332512315270936, 0.9667487684729064], \"num_examples\": 812.0}, \"condition\": {\"type\": \"CATEGORICAL_IS_IN\", \"attribute\": \"HomePlanet\", \"mask\": [\"Europa\", \"Mars\"]}}, {\"value\": {\"type\": \"PROBABILITY\", \"distribution\": [0.34608030592734224, 0.6539196940726577], \"num_examples\": 1046.0}, \"condition\": {\"type\": \"CATEGORICAL_IS_IN\", \"attribute\": \"Cabin_num\", \"mask\": [\"<OOD>\", \"19\", \"150\", \"125\", \"103\", \"9\", \"42\", \"230\", \"18\", \"175\", \"109\", \"95\", \"65\", \"247\", \"22\", \"144\", \"97\", \"78\", \"450\", \"283\", \"258\", \"218\", \"187\", \"178\", \"133\", \"129\", \"89\", \"67\", \"166\", \"122\", \"107\", \"105\", \"38\", \"30\", \"281\", \"268\", \"252\", \"21\", \"161\", \"1476\", \"1046\", \"101\", \"412\", \"41\", \"36\", \"352\", \"31\", \"285\", \"262\", \"190\", \"70\", \"323\", \"272\", \"263\", \"242\", \"220\", \"214\", \"206\", \"198\", \"152\", \"974\", \"630\", \"505\", \"449\", \"426\", \"305\", \"159\", \"154\", \"1460\", \"1448\", \"135\", \"1319\", \"98\", \"757\", \"541\", \"461\", \"438\", \"423\", \"407\", \"338\", \"273\", \"256\", \"174\", \"153\", \"1418\", \"1316\", \"1278\", \"1050\", \"1023\", \"999\", \"707\", \"659\", \"607\", \"588\", \"577\", \"575\", \"574\", \"570\", \"553\", \"546\", \"535\", \"530\", \"475\", \"435\", \"390\", \"379\", \"33\", \"303\", \"236\", \"1493\", \"1433\", \"1322\", \"1294\", \"1123\", \"108\", \"1037\", \"1028\"]}}]}]}, {\"value\": {\"type\": \"PROBABILITY\", \"distribution\": [0.6705802664258298, 0.32941973357417026], \"num_examples\": 4429.0}, \"condition\": {\"type\": \"NUMERICAL_IS_HIGHER_THAN\", \"attribute\": \"Age\", \"threshold\": 12.5}, \"children\": [{\"value\": {\"type\": \"PROBABILITY\", \"distribution\": [0.6982003891050583, 0.3017996108949416], \"num_examples\": 4112.0}, \"condition\": {\"type\": \"NUMERICAL_IS_HIGHER_THAN\", \"attribute\": \"FoodCourt\", \"threshold\": 669.5}, \"children\": [{\"value\": {\"type\": \"PROBABILITY\", \"distribution\": [0.4710382513661202, 0.5289617486338798], \"num_examples\": 915.0}, \"condition\": {\"type\": \"NUMERICAL_IS_HIGHER_THAN\", \"attribute\": \"Spa\", \"threshold\": 2487.5}}, {\"value\": {\"type\": \"PROBABILITY\", \"distribution\": [0.7632155145448858, 0.23678448545511416], \"num_examples\": 3197.0}, \"condition\": {\"type\": \"NUMERICAL_IS_HIGHER_THAN\", \"attribute\": \"ShoppingMall\", \"threshold\": 587.5}}]}, {\"value\": {\"type\": \"PROBABILITY\", \"distribution\": [0.31230283911671924, 0.6876971608832808], \"num_examples\": 317.0}, \"condition\": {\"type\": \"CATEGORICAL_IS_IN\", \"attribute\": \"HomePlanet\", \"mask\": [\"Europa\", \"Mars\"]}, \"children\": [{\"value\": {\"type\": \"PROBABILITY\", \"distribution\": [0.0, 1.0], \"num_examples\": 98.0}}, {\"value\": {\"type\": \"PROBABILITY\", \"distribution\": [0.4520547945205479, 0.547945205479452], \"num_examples\": 219.0}, \"condition\": {\"type\": \"CATEGORICAL_IS_IN\", \"attribute\": \"Cabin_num\", \"mask\": [\"<OOD>\", \"82\", \"72\", \"37\", \"29\", \"199\", \"166\", \"81\", \"136\", \"1411\", \"981\", \"469\", \"292\", \"974\", \"734\", \"630\", \"505\", \"195\", \"1368\", \"1319\", \"757\", \"571\", \"965\", \"889\", \"805\", \"478\", \"1351\"]}}]}]}]}, \"#tree_plot_18fd399042a14d759fad9690185c7caf\")\n</script>\n"
          },
          "metadata": {}
        }
      ]
    },
    {
      "cell_type": "markdown",
      "source": [
        "# Evaluate the model on the Out of bag (OOB) data and the validation dataset\n",
        "\n",
        "Before training the dataset we have manually seperated 20% of the dataset for validation named as `valid_ds`.\n",
        "\n",
        "We can also use Out of bag (OOB) score to validate our RandomForestModel.\n",
        "To train a Random Forest Model, a set of random samples from training set are choosen by the algorithm and the rest of the samples are used to finetune the model.The subset of data that is not chosen is known as Out of bag data (OOB).\n",
        "OOB score is computed on the OOB data.\n",
        "\n",
        "Read more about OOB data [here](https://developers.google.com/machine-learning/decision-forests/out-of-bag).\n",
        "\n",
        "The training logs show the accuracy evaluated on the out-of-bag dataset according to the number of trees in the model. Let us plot this.\n",
        "\n",
        "Note: Larger values are better for this hyperparameter."
      ],
      "metadata": {
        "id": "1q5zxzuLmnjb"
      }
    },
    {
      "cell_type": "code",
      "source": [
        "import matplotlib.pyplot as plt\n",
        "logs = rf.make_inspector().training_logs()\n",
        "plt.plot([log.num_trees for log in logs], [log.evaluation.accuracy for log in logs])\n",
        "plt.xlabel(\"Number of trees\")\n",
        "plt.ylabel(\"Accuracy (out-of-bag)\")\n",
        "plt.show()"
      ],
      "metadata": {
        "id": "z7u4IuAQmnjb",
        "execution": {
          "iopub.status.busy": "2023-12-07T11:35:00.260629Z",
          "iopub.execute_input": "2023-12-07T11:35:00.261057Z",
          "iopub.status.idle": "2023-12-07T11:35:00.425911Z",
          "shell.execute_reply.started": "2023-12-07T11:35:00.261022Z",
          "shell.execute_reply": "2023-12-07T11:35:00.424674Z"
        },
        "trusted": true,
        "outputId": "01055987-c4c6-4391-bc36-683c321ce814"
      },
      "execution_count": null,
      "outputs": [
        {
          "output_type": "display_data",
          "data": {
            "text/plain": "<Figure size 640x480 with 1 Axes>",
            "image/png": "[encoded data removed]"
          },
          "metadata": {}
        }
      ]
    },
    {
      "cell_type": "markdown",
      "source": [
        "We can also see some general stats on the OOB dataset:"
      ],
      "metadata": {
        "id": "N24V7vhAmnjb"
      }
    },
    {
      "cell_type": "code",
      "source": [
        "inspector = rf.make_inspector()\n",
        "inspector.evaluation()"
      ],
      "metadata": {
        "id": "QTD92zMGmnjc",
        "execution": {
          "iopub.status.busy": "2023-12-07T11:35:00.428728Z",
          "iopub.execute_input": "2023-12-07T11:35:00.429224Z",
          "iopub.status.idle": "2023-12-07T11:35:00.439585Z",
          "shell.execute_reply.started": "2023-12-07T11:35:00.429190Z",
          "shell.execute_reply": "2023-12-07T11:35:00.438494Z"
        },
        "trusted": true,
        "outputId": "7882e5d0-9829-4dbd-c40c-462815686223"
      },
      "execution_count": null,
      "outputs": [
        {
          "execution_count": 31,
          "output_type": "execute_result",
          "data": {
            "text/plain": "Evaluation(num_examples=6896, accuracy=0.7993039443155452, loss=0.5820366530812868, rmse=None, ndcg=None, aucs=None, auuc=None, qini=None)"
          },
          "metadata": {}
        }
      ]
    },
    {
      "cell_type": "markdown",
      "source": [
        "Now, let us run an evaluation using the validation dataset."
      ],
      "metadata": {
        "id": "SuVS0BGXmnjd"
      }
    },
    {
      "cell_type": "code",
      "source": [
        "evaluation = rf.evaluate(x=valid_ds,return_dict=True)\n",
        "\n",
        "for name, value in evaluation.items():\n",
        "  print(f\"{name}: {value:.4f}\")"
      ],
      "metadata": {
        "id": "C0SfSxc0mnjd",
        "execution": {
          "iopub.status.busy": "2023-12-07T11:35:00.441181Z",
          "iopub.execute_input": "2023-12-07T11:35:00.441476Z",
          "iopub.status.idle": "2023-12-07T11:35:00.858412Z",
          "shell.execute_reply.started": "2023-12-07T11:35:00.441449Z",
          "shell.execute_reply": "2023-12-07T11:35:00.857116Z"
        },
        "trusted": true,
        "outputId": "4de00345-3491-4862-ed73-11dc1c1d7d34"
      },
      "execution_count": null,
      "outputs": [
        {
          "name": "stdout",
          "text": "2/2 [==============================] - 0s 59ms/step - loss: 0.0000e+00 - mean_squared_error: 0.1457\nloss: 0.0000\nmean_squared_error: 0.1457\n",
          "output_type": "stream"
        }
      ]
    },
    {
      "cell_type": "markdown",
      "source": [
        "# Variable importances\n",
        "\n",
        "Variable importances generally indicate how much a feature contributes to the model predictions or quality. There are several ways to identify important features using TensorFlow Decision Forests.\n",
        "Let us list the available `Variable Importances` for Decision Trees:"
      ],
      "metadata": {
        "id": "cgAI1XrVmnje"
      }
    },
    {
      "cell_type": "code",
      "source": [
        "print(f\"Available variable importances:\")\n",
        "for importance in inspector.variable_importances().keys():\n",
        "  print(\"\\t\", importance)"
      ],
      "metadata": {
        "id": "BdPN_fV1mnje",
        "execution": {
          "iopub.status.busy": "2023-12-07T11:35:00.860072Z",
          "iopub.execute_input": "2023-12-07T11:35:00.860709Z",
          "iopub.status.idle": "2023-12-07T11:35:00.866872Z",
          "shell.execute_reply.started": "2023-12-07T11:35:00.860669Z",
          "shell.execute_reply": "2023-12-07T11:35:00.865688Z"
        },
        "trusted": true,
        "outputId": "be378094-898b-49fb-9695-6ad00b8a48f9"
      },
      "execution_count": null,
      "outputs": [
        {
          "name": "stdout",
          "text": "Available variable importances:\n\t INV_MEAN_MIN_DEPTH\n\t SUM_SCORE\n\t NUM_AS_ROOT\n\t NUM_NODES\n",
          "output_type": "stream"
        }
      ]
    },
    {
      "cell_type": "markdown",
      "source": [
        "As an example, let us display the important features for the Variable Importance `NUM_AS_ROOT`.\n",
        "\n",
        "The larger the importance score for `NUM_AS_ROOT`, the more impact it has on the outcome of the model.\n",
        "\n",
        "By default, the list is sorted from the most important to the least. From the output you can infer that the feature at the top of the list is used as the root node in most number of trees in the random forest than any other feature."
      ],
      "metadata": {
        "id": "dr-nVQwCmnje"
      }
    },
    {
      "cell_type": "code",
      "source": [
        "# Each line is: (feature name, (index of the feature), importance score)\n",
        "inspector.variable_importances()[\"NUM_AS_ROOT\"]"
      ],
      "metadata": {
        "id": "etYOifhfmnje",
        "execution": {
          "iopub.status.busy": "2023-12-07T11:35:00.868356Z",
          "iopub.execute_input": "2023-12-07T11:35:00.869348Z",
          "iopub.status.idle": "2023-12-07T11:35:00.885467Z",
          "shell.execute_reply.started": "2023-12-07T11:35:00.869290Z",
          "shell.execute_reply": "2023-12-07T11:35:00.884485Z"
        },
        "trusted": true,
        "outputId": "ba3450bc-c12d-451b-d12b-34e765cedf91"
      },
      "execution_count": null,
      "outputs": [
        {
          "execution_count": 34,
          "output_type": "execute_result",
          "data": {
            "text/plain": "[(\"CryoSleep\" (1; #2), 126.0),\n (\"RoomService\" (1; #7), 67.0),\n (\"Spa\" (1; #10), 45.0),\n (\"VRDeck\" (1; #12), 34.0),\n (\"ShoppingMall\" (1; #8), 16.0),\n (\"Deck\" (4; #3), 7.0),\n (\"FoodCourt\" (1; #5), 3.0),\n (\"HomePlanet\" (4; #6), 2.0)]"
          },
          "metadata": {}
        }
      ]
    },
    {
      "cell_type": "markdown",
      "source": [
        "# Submission"
      ],
      "metadata": {
        "id": "DAtAR0vkmnje"
      }
    },
    {
      "cell_type": "code",
      "source": [
        "# Load the test dataset\n",
        "test_df = pd.read_csv('/kaggle/input/spaceship-titanic/test.csv')\n",
        "submission_id = test_df.PassengerId\n",
        "\n",
        "# Replace NaN values with zero\n",
        "test_df[['VIP', 'CryoSleep']] = test_df[['VIP', 'CryoSleep']].fillna(value=0)\n",
        "\n",
        "# Creating New Features - Deck, Cabin_num and Side from the column Cabin and remove Cabin\n",
        "test_df[[\"Deck\", \"Cabin_num\", \"Side\"]] = test_df[\"Cabin\"].str.split(\"/\", expand=True)\n",
        "test_df = test_df.drop('Cabin', axis=1)\n",
        "\n",
        "# Convert boolean to 1's and 0's\n",
        "test_df['VIP'] = test_df['VIP'].astype(int)\n",
        "test_df['CryoSleep'] = test_df['CryoSleep'].astype(int)\n",
        "\n",
        "# Convert pd dataframe to tf dataset\n",
        "test_ds = tfdf.keras.pd_dataframe_to_tf_dataset(test_df)\n",
        "\n",
        "# Get the predictions for testdata\n",
        "predictions = rf.predict(test_ds)\n",
        "n_predictions = (predictions > 0.5).astype(bool)\n",
        "output = pd.DataFrame({'PassengerId': submission_id,\n",
        "                       'Transported': n_predictions.squeeze()})\n",
        "\n",
        "output.head()"
      ],
      "metadata": {
        "id": "KHBRzBD9mnjf",
        "execution": {
          "iopub.status.busy": "2023-12-07T11:35:00.886689Z",
          "iopub.execute_input": "2023-12-07T11:35:00.887360Z",
          "iopub.status.idle": "2023-12-07T11:35:01.415063Z",
          "shell.execute_reply.started": "2023-12-07T11:35:00.887325Z",
          "shell.execute_reply": "2023-12-07T11:35:01.413860Z"
        },
        "trusted": true,
        "outputId": "46d21097-0706-4937-9263-074172584d0b"
      },
      "execution_count": null,
      "outputs": [
        {
          "name": "stdout",
          "text": "5/5 [==============================] - 0s 57ms/step\n",
          "output_type": "stream"
        },
        {
          "execution_count": 35,
          "output_type": "execute_result",
          "data": {
            "text/plain": "  PassengerId  Transported\n0     0013_01         True\n1     0018_01        False\n2     0019_01         True\n3     0021_01         True\n4     0023_01        False",
            "text/html": "<div>\n<style scoped>\n    .dataframe tbody tr th:only-of-type {\n        vertical-align: middle;\n    }\n\n    .dataframe tbody tr th {\n        vertical-align: top;\n    }\n\n    .dataframe thead th {\n        text-align: right;\n    }\n</style>\n<table border=\"1\" class=\"dataframe\">\n  <thead>\n    <tr style=\"text-align: right;\">\n      <th></th>\n      <th>PassengerId</th>\n      <th>Transported</th>\n    </tr>\n  </thead>\n  <tbody>\n    <tr>\n      <th>0</th>\n      <td>0013_01</td>\n      <td>True</td>\n    </tr>\n    <tr>\n      <th>1</th>\n      <td>0018_01</td>\n      <td>False</td>\n    </tr>\n    <tr>\n      <th>2</th>\n      <td>0019_01</td>\n      <td>True</td>\n    </tr>\n    <tr>\n      <th>3</th>\n      <td>0021_01</td>\n      <td>True</td>\n    </tr>\n    <tr>\n      <th>4</th>\n      <td>0023_01</td>\n      <td>False</td>\n    </tr>\n  </tbody>\n</table>\n</div>"
          },
          "metadata": {}
        }
      ]
    },
    {
      "cell_type": "code",
      "source": [
        "sample_submission_df = pd.read_csv('/kaggle/input/spaceship-titanic/sample_submission.csv')\n",
        "sample_submission_df['Transported'] = n_predictions\n",
        "sample_submission_df.to_csv('/kaggle/working/submission.csv', index=False)\n",
        "sample_submission_df.head()"
      ],
      "metadata": {
        "id": "OZuB6CdUmnjf",
        "execution": {
          "iopub.status.busy": "2023-12-07T11:35:01.417086Z",
          "iopub.execute_input": "2023-12-07T11:35:01.417431Z",
          "iopub.status.idle": "2023-12-07T11:35:01.444744Z",
          "shell.execute_reply.started": "2023-12-07T11:35:01.417398Z",
          "shell.execute_reply": "2023-12-07T11:35:01.443212Z"
        },
        "trusted": true,
        "outputId": "363a9dfe-61a4-47a7-e581-1283d0045cc1"
      },
      "execution_count": null,
      "outputs": [
        {
          "execution_count": 36,
          "output_type": "execute_result",
          "data": {
            "text/plain": "  PassengerId  Transported\n0     0013_01         True\n1     0018_01        False\n2     0019_01         True\n3     0021_01         True\n4     0023_01        False",
            "text/html": "<div>\n<style scoped>\n    .dataframe tbody tr th:only-of-type {\n        vertical-align: middle;\n    }\n\n    .dataframe tbody tr th {\n        vertical-align: top;\n    }\n\n    .dataframe thead th {\n        text-align: right;\n    }\n</style>\n<table border=\"1\" class=\"dataframe\">\n  <thead>\n    <tr style=\"text-align: right;\">\n      <th></th>\n      <th>PassengerId</th>\n      <th>Transported</th>\n    </tr>\n  </thead>\n  <tbody>\n    <tr>\n      <th>0</th>\n      <td>0013_01</td>\n      <td>True</td>\n    </tr>\n    <tr>\n      <th>1</th>\n      <td>0018_01</td>\n      <td>False</td>\n    </tr>\n    <tr>\n      <th>2</th>\n      <td>0019_01</td>\n      <td>True</td>\n    </tr>\n    <tr>\n      <th>3</th>\n      <td>0021_01</td>\n      <td>True</td>\n    </tr>\n    <tr>\n      <th>4</th>\n      <td>0023_01</td>\n      <td>False</td>\n    </tr>\n  </tbody>\n</table>\n</div>"
          },
          "metadata": {}
        }
      ]
    },
    {
      "cell_type": "code",
      "source": [],
      "metadata": {
        "id": "2WXehfF4OZSz"
      },
      "execution_count": null,
      "outputs": []
    }
  ]
}